{
  "nbformat": 4,
  "nbformat_minor": 0,
  "metadata": {
    "colab": {
      "provenance": []
    },
    "kernelspec": {
      "name": "python3",
      "display_name": "Python 3"
    },
    "language_info": {
      "name": "python"
    }
  },
  "cells": [
    {
      "cell_type": "markdown",
      "source": [
        "# Predicting liver disease in Hepatitis C patients via blood analysis\n",
        "\n",
        "Brief description: The identification of a disease stage could be very complex, sometimes involving the necessity of invasive measurements. In this context, the use of key metabolic markers has been recently described as a valuable tool for non invasive, but very efficient disease diagnostics. The present application concerns the development of a machine learning tool for the classification of end-stage liver disease in patients affected by Hepatitis C. The reference database concerns a cohort of both female and male individuals. The dataset contains several metabolic predictors (e.g., serum albumin level, gamma glutamyl transferase etc.) and one categorical outcome corresponding to the stage of the disease (e.g., hepatitis, fibrosis, cirrhosis,etc.). Based on the predictors, the main aim of the model is to correctly classify the stage of liver disease progression in the patients’ cohort."
      ],
      "metadata": {
        "id": "kqnP7gGucdt6"
      }
    },
    {
      "cell_type": "code",
      "execution_count": 347,
      "metadata": {
        "id": "ZDj0QB_nAm6i"
      },
      "outputs": [],
      "source": [
        "import pandas as pd\n",
        "import numpy as np\n",
        "import sklearn\n",
        "from sklearn.preprocessing import LabelEncoder\n",
        "from sklearn.model_selection import train_test_split\n",
        "from sklearn.metrics import accuracy_score\n",
        "from sklearn.model_selection import GridSearchCV\n",
        "from sklearn.tree import DecisionTreeClassifier\n",
        "from sklearn import preprocessing"
      ]
    },
    {
      "cell_type": "markdown",
      "source": [
        "Import dataset from the UCI Machine Learning repository\n",
        "https://archive.ics.uci.edu/ml/datasets/HCV+data"
      ],
      "metadata": {
        "id": "OF-wFVwCffIi"
      }
    },
    {
      "cell_type": "code",
      "source": [
        "df = pd.read_csv('hcvdat0.csv')\n",
        "df"
      ],
      "metadata": {
        "colab": {
          "base_uri": "https://localhost:8080/",
          "height": 424
        },
        "id": "tLBfBqf8BK4-",
        "outputId": "ed3461ff-8b37-431f-e131-03facafe92fd"
      },
      "execution_count": 348,
      "outputs": [
        {
          "output_type": "execute_result",
          "data": {
            "text/plain": [
              "     Unnamed: 0       Category  Age Sex   ALB    ALP    ALT    AST   BIL  \\\n",
              "0             1  0=Blood Donor   32   m  38.5   52.5    7.7   22.1   7.5   \n",
              "1             2  0=Blood Donor   32   m  38.5   70.3   18.0   24.7   3.9   \n",
              "2             3  0=Blood Donor   32   m  46.9   74.7   36.2   52.6   6.1   \n",
              "3             4  0=Blood Donor   32   m  43.2   52.0   30.6   22.6  18.9   \n",
              "4             5  0=Blood Donor   32   m  39.2   74.1   32.6   24.8   9.6   \n",
              "..          ...            ...  ...  ..   ...    ...    ...    ...   ...   \n",
              "610         611    3=Cirrhosis   62   f  32.0  416.6    5.9  110.3  50.0   \n",
              "611         612    3=Cirrhosis   64   f  24.0  102.8    2.9   44.4  20.0   \n",
              "612         613    3=Cirrhosis   64   f  29.0   87.3    3.5   99.0  48.0   \n",
              "613         614    3=Cirrhosis   46   f  33.0    NaN   39.0   62.0  20.0   \n",
              "614         615    3=Cirrhosis   59   f  36.0    NaN  100.0   80.0  12.0   \n",
              "\n",
              "       CHE  CHOL   CREA    GGT  PROT  \n",
              "0     6.93  3.23  106.0   12.1  69.0  \n",
              "1    11.17  4.80   74.0   15.6  76.5  \n",
              "2     8.84  5.20   86.0   33.2  79.3  \n",
              "3     7.33  4.74   80.0   33.8  75.7  \n",
              "4     9.15  4.32   76.0   29.9  68.7  \n",
              "..     ...   ...    ...    ...   ...  \n",
              "610   5.57  6.30   55.7  650.9  68.5  \n",
              "611   1.54  3.02   63.0   35.9  71.3  \n",
              "612   1.66  3.63   66.7   64.2  82.0  \n",
              "613   3.56  4.20   52.0   50.0  71.0  \n",
              "614   9.07  5.30   67.0   34.0  68.0  \n",
              "\n",
              "[615 rows x 14 columns]"
            ],
            "text/html": [
              "\n",
              "  <div id=\"df-cf2963c6-f925-44d1-8947-d62334c1ec07\">\n",
              "    <div class=\"colab-df-container\">\n",
              "      <div>\n",
              "<style scoped>\n",
              "    .dataframe tbody tr th:only-of-type {\n",
              "        vertical-align: middle;\n",
              "    }\n",
              "\n",
              "    .dataframe tbody tr th {\n",
              "        vertical-align: top;\n",
              "    }\n",
              "\n",
              "    .dataframe thead th {\n",
              "        text-align: right;\n",
              "    }\n",
              "</style>\n",
              "<table border=\"1\" class=\"dataframe\">\n",
              "  <thead>\n",
              "    <tr style=\"text-align: right;\">\n",
              "      <th></th>\n",
              "      <th>Unnamed: 0</th>\n",
              "      <th>Category</th>\n",
              "      <th>Age</th>\n",
              "      <th>Sex</th>\n",
              "      <th>ALB</th>\n",
              "      <th>ALP</th>\n",
              "      <th>ALT</th>\n",
              "      <th>AST</th>\n",
              "      <th>BIL</th>\n",
              "      <th>CHE</th>\n",
              "      <th>CHOL</th>\n",
              "      <th>CREA</th>\n",
              "      <th>GGT</th>\n",
              "      <th>PROT</th>\n",
              "    </tr>\n",
              "  </thead>\n",
              "  <tbody>\n",
              "    <tr>\n",
              "      <th>0</th>\n",
              "      <td>1</td>\n",
              "      <td>0=Blood Donor</td>\n",
              "      <td>32</td>\n",
              "      <td>m</td>\n",
              "      <td>38.5</td>\n",
              "      <td>52.5</td>\n",
              "      <td>7.7</td>\n",
              "      <td>22.1</td>\n",
              "      <td>7.5</td>\n",
              "      <td>6.93</td>\n",
              "      <td>3.23</td>\n",
              "      <td>106.0</td>\n",
              "      <td>12.1</td>\n",
              "      <td>69.0</td>\n",
              "    </tr>\n",
              "    <tr>\n",
              "      <th>1</th>\n",
              "      <td>2</td>\n",
              "      <td>0=Blood Donor</td>\n",
              "      <td>32</td>\n",
              "      <td>m</td>\n",
              "      <td>38.5</td>\n",
              "      <td>70.3</td>\n",
              "      <td>18.0</td>\n",
              "      <td>24.7</td>\n",
              "      <td>3.9</td>\n",
              "      <td>11.17</td>\n",
              "      <td>4.80</td>\n",
              "      <td>74.0</td>\n",
              "      <td>15.6</td>\n",
              "      <td>76.5</td>\n",
              "    </tr>\n",
              "    <tr>\n",
              "      <th>2</th>\n",
              "      <td>3</td>\n",
              "      <td>0=Blood Donor</td>\n",
              "      <td>32</td>\n",
              "      <td>m</td>\n",
              "      <td>46.9</td>\n",
              "      <td>74.7</td>\n",
              "      <td>36.2</td>\n",
              "      <td>52.6</td>\n",
              "      <td>6.1</td>\n",
              "      <td>8.84</td>\n",
              "      <td>5.20</td>\n",
              "      <td>86.0</td>\n",
              "      <td>33.2</td>\n",
              "      <td>79.3</td>\n",
              "    </tr>\n",
              "    <tr>\n",
              "      <th>3</th>\n",
              "      <td>4</td>\n",
              "      <td>0=Blood Donor</td>\n",
              "      <td>32</td>\n",
              "      <td>m</td>\n",
              "      <td>43.2</td>\n",
              "      <td>52.0</td>\n",
              "      <td>30.6</td>\n",
              "      <td>22.6</td>\n",
              "      <td>18.9</td>\n",
              "      <td>7.33</td>\n",
              "      <td>4.74</td>\n",
              "      <td>80.0</td>\n",
              "      <td>33.8</td>\n",
              "      <td>75.7</td>\n",
              "    </tr>\n",
              "    <tr>\n",
              "      <th>4</th>\n",
              "      <td>5</td>\n",
              "      <td>0=Blood Donor</td>\n",
              "      <td>32</td>\n",
              "      <td>m</td>\n",
              "      <td>39.2</td>\n",
              "      <td>74.1</td>\n",
              "      <td>32.6</td>\n",
              "      <td>24.8</td>\n",
              "      <td>9.6</td>\n",
              "      <td>9.15</td>\n",
              "      <td>4.32</td>\n",
              "      <td>76.0</td>\n",
              "      <td>29.9</td>\n",
              "      <td>68.7</td>\n",
              "    </tr>\n",
              "    <tr>\n",
              "      <th>...</th>\n",
              "      <td>...</td>\n",
              "      <td>...</td>\n",
              "      <td>...</td>\n",
              "      <td>...</td>\n",
              "      <td>...</td>\n",
              "      <td>...</td>\n",
              "      <td>...</td>\n",
              "      <td>...</td>\n",
              "      <td>...</td>\n",
              "      <td>...</td>\n",
              "      <td>...</td>\n",
              "      <td>...</td>\n",
              "      <td>...</td>\n",
              "      <td>...</td>\n",
              "    </tr>\n",
              "    <tr>\n",
              "      <th>610</th>\n",
              "      <td>611</td>\n",
              "      <td>3=Cirrhosis</td>\n",
              "      <td>62</td>\n",
              "      <td>f</td>\n",
              "      <td>32.0</td>\n",
              "      <td>416.6</td>\n",
              "      <td>5.9</td>\n",
              "      <td>110.3</td>\n",
              "      <td>50.0</td>\n",
              "      <td>5.57</td>\n",
              "      <td>6.30</td>\n",
              "      <td>55.7</td>\n",
              "      <td>650.9</td>\n",
              "      <td>68.5</td>\n",
              "    </tr>\n",
              "    <tr>\n",
              "      <th>611</th>\n",
              "      <td>612</td>\n",
              "      <td>3=Cirrhosis</td>\n",
              "      <td>64</td>\n",
              "      <td>f</td>\n",
              "      <td>24.0</td>\n",
              "      <td>102.8</td>\n",
              "      <td>2.9</td>\n",
              "      <td>44.4</td>\n",
              "      <td>20.0</td>\n",
              "      <td>1.54</td>\n",
              "      <td>3.02</td>\n",
              "      <td>63.0</td>\n",
              "      <td>35.9</td>\n",
              "      <td>71.3</td>\n",
              "    </tr>\n",
              "    <tr>\n",
              "      <th>612</th>\n",
              "      <td>613</td>\n",
              "      <td>3=Cirrhosis</td>\n",
              "      <td>64</td>\n",
              "      <td>f</td>\n",
              "      <td>29.0</td>\n",
              "      <td>87.3</td>\n",
              "      <td>3.5</td>\n",
              "      <td>99.0</td>\n",
              "      <td>48.0</td>\n",
              "      <td>1.66</td>\n",
              "      <td>3.63</td>\n",
              "      <td>66.7</td>\n",
              "      <td>64.2</td>\n",
              "      <td>82.0</td>\n",
              "    </tr>\n",
              "    <tr>\n",
              "      <th>613</th>\n",
              "      <td>614</td>\n",
              "      <td>3=Cirrhosis</td>\n",
              "      <td>46</td>\n",
              "      <td>f</td>\n",
              "      <td>33.0</td>\n",
              "      <td>NaN</td>\n",
              "      <td>39.0</td>\n",
              "      <td>62.0</td>\n",
              "      <td>20.0</td>\n",
              "      <td>3.56</td>\n",
              "      <td>4.20</td>\n",
              "      <td>52.0</td>\n",
              "      <td>50.0</td>\n",
              "      <td>71.0</td>\n",
              "    </tr>\n",
              "    <tr>\n",
              "      <th>614</th>\n",
              "      <td>615</td>\n",
              "      <td>3=Cirrhosis</td>\n",
              "      <td>59</td>\n",
              "      <td>f</td>\n",
              "      <td>36.0</td>\n",
              "      <td>NaN</td>\n",
              "      <td>100.0</td>\n",
              "      <td>80.0</td>\n",
              "      <td>12.0</td>\n",
              "      <td>9.07</td>\n",
              "      <td>5.30</td>\n",
              "      <td>67.0</td>\n",
              "      <td>34.0</td>\n",
              "      <td>68.0</td>\n",
              "    </tr>\n",
              "  </tbody>\n",
              "</table>\n",
              "<p>615 rows × 14 columns</p>\n",
              "</div>\n",
              "      <button class=\"colab-df-convert\" onclick=\"convertToInteractive('df-cf2963c6-f925-44d1-8947-d62334c1ec07')\"\n",
              "              title=\"Convert this dataframe to an interactive table.\"\n",
              "              style=\"display:none;\">\n",
              "        \n",
              "  <svg xmlns=\"http://www.w3.org/2000/svg\" height=\"24px\"viewBox=\"0 0 24 24\"\n",
              "       width=\"24px\">\n",
              "    <path d=\"M0 0h24v24H0V0z\" fill=\"none\"/>\n",
              "    <path d=\"M18.56 5.44l.94 2.06.94-2.06 2.06-.94-2.06-.94-.94-2.06-.94 2.06-2.06.94zm-11 1L8.5 8.5l.94-2.06 2.06-.94-2.06-.94L8.5 2.5l-.94 2.06-2.06.94zm10 10l.94 2.06.94-2.06 2.06-.94-2.06-.94-.94-2.06-.94 2.06-2.06.94z\"/><path d=\"M17.41 7.96l-1.37-1.37c-.4-.4-.92-.59-1.43-.59-.52 0-1.04.2-1.43.59L10.3 9.45l-7.72 7.72c-.78.78-.78 2.05 0 2.83L4 21.41c.39.39.9.59 1.41.59.51 0 1.02-.2 1.41-.59l7.78-7.78 2.81-2.81c.8-.78.8-2.07 0-2.86zM5.41 20L4 18.59l7.72-7.72 1.47 1.35L5.41 20z\"/>\n",
              "  </svg>\n",
              "      </button>\n",
              "      \n",
              "  <style>\n",
              "    .colab-df-container {\n",
              "      display:flex;\n",
              "      flex-wrap:wrap;\n",
              "      gap: 12px;\n",
              "    }\n",
              "\n",
              "    .colab-df-convert {\n",
              "      background-color: #E8F0FE;\n",
              "      border: none;\n",
              "      border-radius: 50%;\n",
              "      cursor: pointer;\n",
              "      display: none;\n",
              "      fill: #1967D2;\n",
              "      height: 32px;\n",
              "      padding: 0 0 0 0;\n",
              "      width: 32px;\n",
              "    }\n",
              "\n",
              "    .colab-df-convert:hover {\n",
              "      background-color: #E2EBFA;\n",
              "      box-shadow: 0px 1px 2px rgba(60, 64, 67, 0.3), 0px 1px 3px 1px rgba(60, 64, 67, 0.15);\n",
              "      fill: #174EA6;\n",
              "    }\n",
              "\n",
              "    [theme=dark] .colab-df-convert {\n",
              "      background-color: #3B4455;\n",
              "      fill: #D2E3FC;\n",
              "    }\n",
              "\n",
              "    [theme=dark] .colab-df-convert:hover {\n",
              "      background-color: #434B5C;\n",
              "      box-shadow: 0px 1px 3px 1px rgba(0, 0, 0, 0.15);\n",
              "      filter: drop-shadow(0px 1px 2px rgba(0, 0, 0, 0.3));\n",
              "      fill: #FFFFFF;\n",
              "    }\n",
              "  </style>\n",
              "\n",
              "      <script>\n",
              "        const buttonEl =\n",
              "          document.querySelector('#df-cf2963c6-f925-44d1-8947-d62334c1ec07 button.colab-df-convert');\n",
              "        buttonEl.style.display =\n",
              "          google.colab.kernel.accessAllowed ? 'block' : 'none';\n",
              "\n",
              "        async function convertToInteractive(key) {\n",
              "          const element = document.querySelector('#df-cf2963c6-f925-44d1-8947-d62334c1ec07');\n",
              "          const dataTable =\n",
              "            await google.colab.kernel.invokeFunction('convertToInteractive',\n",
              "                                                     [key], {});\n",
              "          if (!dataTable) return;\n",
              "\n",
              "          const docLinkHtml = 'Like what you see? Visit the ' +\n",
              "            '<a target=\"_blank\" href=https://colab.research.google.com/notebooks/data_table.ipynb>data table notebook</a>'\n",
              "            + ' to learn more about interactive tables.';\n",
              "          element.innerHTML = '';\n",
              "          dataTable['output_type'] = 'display_data';\n",
              "          await google.colab.output.renderOutput(dataTable, element);\n",
              "          const docLink = document.createElement('div');\n",
              "          docLink.innerHTML = docLinkHtml;\n",
              "          element.appendChild(docLink);\n",
              "        }\n",
              "      </script>\n",
              "    </div>\n",
              "  </div>\n",
              "  "
            ]
          },
          "metadata": {},
          "execution_count": 348
        }
      ]
    },
    {
      "cell_type": "code",
      "source": [
        "df.head(5)"
      ],
      "metadata": {
        "colab": {
          "base_uri": "https://localhost:8080/",
          "height": 206
        },
        "id": "asgs-WLSBUI6",
        "outputId": "dcd02006-8541-49b6-844a-4b0e996ddeb7"
      },
      "execution_count": 349,
      "outputs": [
        {
          "output_type": "execute_result",
          "data": {
            "text/plain": [
              "   Unnamed: 0       Category  Age Sex   ALB   ALP   ALT   AST   BIL    CHE  \\\n",
              "0           1  0=Blood Donor   32   m  38.5  52.5   7.7  22.1   7.5   6.93   \n",
              "1           2  0=Blood Donor   32   m  38.5  70.3  18.0  24.7   3.9  11.17   \n",
              "2           3  0=Blood Donor   32   m  46.9  74.7  36.2  52.6   6.1   8.84   \n",
              "3           4  0=Blood Donor   32   m  43.2  52.0  30.6  22.6  18.9   7.33   \n",
              "4           5  0=Blood Donor   32   m  39.2  74.1  32.6  24.8   9.6   9.15   \n",
              "\n",
              "   CHOL   CREA   GGT  PROT  \n",
              "0  3.23  106.0  12.1  69.0  \n",
              "1  4.80   74.0  15.6  76.5  \n",
              "2  5.20   86.0  33.2  79.3  \n",
              "3  4.74   80.0  33.8  75.7  \n",
              "4  4.32   76.0  29.9  68.7  "
            ],
            "text/html": [
              "\n",
              "  <div id=\"df-731236cf-77aa-4649-a382-87ff9e527a0b\">\n",
              "    <div class=\"colab-df-container\">\n",
              "      <div>\n",
              "<style scoped>\n",
              "    .dataframe tbody tr th:only-of-type {\n",
              "        vertical-align: middle;\n",
              "    }\n",
              "\n",
              "    .dataframe tbody tr th {\n",
              "        vertical-align: top;\n",
              "    }\n",
              "\n",
              "    .dataframe thead th {\n",
              "        text-align: right;\n",
              "    }\n",
              "</style>\n",
              "<table border=\"1\" class=\"dataframe\">\n",
              "  <thead>\n",
              "    <tr style=\"text-align: right;\">\n",
              "      <th></th>\n",
              "      <th>Unnamed: 0</th>\n",
              "      <th>Category</th>\n",
              "      <th>Age</th>\n",
              "      <th>Sex</th>\n",
              "      <th>ALB</th>\n",
              "      <th>ALP</th>\n",
              "      <th>ALT</th>\n",
              "      <th>AST</th>\n",
              "      <th>BIL</th>\n",
              "      <th>CHE</th>\n",
              "      <th>CHOL</th>\n",
              "      <th>CREA</th>\n",
              "      <th>GGT</th>\n",
              "      <th>PROT</th>\n",
              "    </tr>\n",
              "  </thead>\n",
              "  <tbody>\n",
              "    <tr>\n",
              "      <th>0</th>\n",
              "      <td>1</td>\n",
              "      <td>0=Blood Donor</td>\n",
              "      <td>32</td>\n",
              "      <td>m</td>\n",
              "      <td>38.5</td>\n",
              "      <td>52.5</td>\n",
              "      <td>7.7</td>\n",
              "      <td>22.1</td>\n",
              "      <td>7.5</td>\n",
              "      <td>6.93</td>\n",
              "      <td>3.23</td>\n",
              "      <td>106.0</td>\n",
              "      <td>12.1</td>\n",
              "      <td>69.0</td>\n",
              "    </tr>\n",
              "    <tr>\n",
              "      <th>1</th>\n",
              "      <td>2</td>\n",
              "      <td>0=Blood Donor</td>\n",
              "      <td>32</td>\n",
              "      <td>m</td>\n",
              "      <td>38.5</td>\n",
              "      <td>70.3</td>\n",
              "      <td>18.0</td>\n",
              "      <td>24.7</td>\n",
              "      <td>3.9</td>\n",
              "      <td>11.17</td>\n",
              "      <td>4.80</td>\n",
              "      <td>74.0</td>\n",
              "      <td>15.6</td>\n",
              "      <td>76.5</td>\n",
              "    </tr>\n",
              "    <tr>\n",
              "      <th>2</th>\n",
              "      <td>3</td>\n",
              "      <td>0=Blood Donor</td>\n",
              "      <td>32</td>\n",
              "      <td>m</td>\n",
              "      <td>46.9</td>\n",
              "      <td>74.7</td>\n",
              "      <td>36.2</td>\n",
              "      <td>52.6</td>\n",
              "      <td>6.1</td>\n",
              "      <td>8.84</td>\n",
              "      <td>5.20</td>\n",
              "      <td>86.0</td>\n",
              "      <td>33.2</td>\n",
              "      <td>79.3</td>\n",
              "    </tr>\n",
              "    <tr>\n",
              "      <th>3</th>\n",
              "      <td>4</td>\n",
              "      <td>0=Blood Donor</td>\n",
              "      <td>32</td>\n",
              "      <td>m</td>\n",
              "      <td>43.2</td>\n",
              "      <td>52.0</td>\n",
              "      <td>30.6</td>\n",
              "      <td>22.6</td>\n",
              "      <td>18.9</td>\n",
              "      <td>7.33</td>\n",
              "      <td>4.74</td>\n",
              "      <td>80.0</td>\n",
              "      <td>33.8</td>\n",
              "      <td>75.7</td>\n",
              "    </tr>\n",
              "    <tr>\n",
              "      <th>4</th>\n",
              "      <td>5</td>\n",
              "      <td>0=Blood Donor</td>\n",
              "      <td>32</td>\n",
              "      <td>m</td>\n",
              "      <td>39.2</td>\n",
              "      <td>74.1</td>\n",
              "      <td>32.6</td>\n",
              "      <td>24.8</td>\n",
              "      <td>9.6</td>\n",
              "      <td>9.15</td>\n",
              "      <td>4.32</td>\n",
              "      <td>76.0</td>\n",
              "      <td>29.9</td>\n",
              "      <td>68.7</td>\n",
              "    </tr>\n",
              "  </tbody>\n",
              "</table>\n",
              "</div>\n",
              "      <button class=\"colab-df-convert\" onclick=\"convertToInteractive('df-731236cf-77aa-4649-a382-87ff9e527a0b')\"\n",
              "              title=\"Convert this dataframe to an interactive table.\"\n",
              "              style=\"display:none;\">\n",
              "        \n",
              "  <svg xmlns=\"http://www.w3.org/2000/svg\" height=\"24px\"viewBox=\"0 0 24 24\"\n",
              "       width=\"24px\">\n",
              "    <path d=\"M0 0h24v24H0V0z\" fill=\"none\"/>\n",
              "    <path d=\"M18.56 5.44l.94 2.06.94-2.06 2.06-.94-2.06-.94-.94-2.06-.94 2.06-2.06.94zm-11 1L8.5 8.5l.94-2.06 2.06-.94-2.06-.94L8.5 2.5l-.94 2.06-2.06.94zm10 10l.94 2.06.94-2.06 2.06-.94-2.06-.94-.94-2.06-.94 2.06-2.06.94z\"/><path d=\"M17.41 7.96l-1.37-1.37c-.4-.4-.92-.59-1.43-.59-.52 0-1.04.2-1.43.59L10.3 9.45l-7.72 7.72c-.78.78-.78 2.05 0 2.83L4 21.41c.39.39.9.59 1.41.59.51 0 1.02-.2 1.41-.59l7.78-7.78 2.81-2.81c.8-.78.8-2.07 0-2.86zM5.41 20L4 18.59l7.72-7.72 1.47 1.35L5.41 20z\"/>\n",
              "  </svg>\n",
              "      </button>\n",
              "      \n",
              "  <style>\n",
              "    .colab-df-container {\n",
              "      display:flex;\n",
              "      flex-wrap:wrap;\n",
              "      gap: 12px;\n",
              "    }\n",
              "\n",
              "    .colab-df-convert {\n",
              "      background-color: #E8F0FE;\n",
              "      border: none;\n",
              "      border-radius: 50%;\n",
              "      cursor: pointer;\n",
              "      display: none;\n",
              "      fill: #1967D2;\n",
              "      height: 32px;\n",
              "      padding: 0 0 0 0;\n",
              "      width: 32px;\n",
              "    }\n",
              "\n",
              "    .colab-df-convert:hover {\n",
              "      background-color: #E2EBFA;\n",
              "      box-shadow: 0px 1px 2px rgba(60, 64, 67, 0.3), 0px 1px 3px 1px rgba(60, 64, 67, 0.15);\n",
              "      fill: #174EA6;\n",
              "    }\n",
              "\n",
              "    [theme=dark] .colab-df-convert {\n",
              "      background-color: #3B4455;\n",
              "      fill: #D2E3FC;\n",
              "    }\n",
              "\n",
              "    [theme=dark] .colab-df-convert:hover {\n",
              "      background-color: #434B5C;\n",
              "      box-shadow: 0px 1px 3px 1px rgba(0, 0, 0, 0.15);\n",
              "      filter: drop-shadow(0px 1px 2px rgba(0, 0, 0, 0.3));\n",
              "      fill: #FFFFFF;\n",
              "    }\n",
              "  </style>\n",
              "\n",
              "      <script>\n",
              "        const buttonEl =\n",
              "          document.querySelector('#df-731236cf-77aa-4649-a382-87ff9e527a0b button.colab-df-convert');\n",
              "        buttonEl.style.display =\n",
              "          google.colab.kernel.accessAllowed ? 'block' : 'none';\n",
              "\n",
              "        async function convertToInteractive(key) {\n",
              "          const element = document.querySelector('#df-731236cf-77aa-4649-a382-87ff9e527a0b');\n",
              "          const dataTable =\n",
              "            await google.colab.kernel.invokeFunction('convertToInteractive',\n",
              "                                                     [key], {});\n",
              "          if (!dataTable) return;\n",
              "\n",
              "          const docLinkHtml = 'Like what you see? Visit the ' +\n",
              "            '<a target=\"_blank\" href=https://colab.research.google.com/notebooks/data_table.ipynb>data table notebook</a>'\n",
              "            + ' to learn more about interactive tables.';\n",
              "          element.innerHTML = '';\n",
              "          dataTable['output_type'] = 'display_data';\n",
              "          await google.colab.output.renderOutput(dataTable, element);\n",
              "          const docLink = document.createElement('div');\n",
              "          docLink.innerHTML = docLinkHtml;\n",
              "          element.appendChild(docLink);\n",
              "        }\n",
              "      </script>\n",
              "    </div>\n",
              "  </div>\n",
              "  "
            ]
          },
          "metadata": {},
          "execution_count": 349
        }
      ]
    },
    {
      "cell_type": "markdown",
      "source": [
        "Initial data preprocessing\n",
        "\n",
        "I will now convert the \"Sex\" predictor into a numerical one. \n",
        "- Sex = 0 Male \n",
        "- Sex = 1 Female"
      ],
      "metadata": {
        "id": "TssclbaEfpzY"
      }
    },
    {
      "cell_type": "code",
      "source": [
        "df['Sex'].replace({'m':0, 'f':1}, inplace=True)\n",
        "df"
      ],
      "metadata": {
        "colab": {
          "base_uri": "https://localhost:8080/",
          "height": 424
        },
        "id": "6ALArxfBDT70",
        "outputId": "7a3e5275-63a3-4c67-d7e3-f91d74085674"
      },
      "execution_count": 350,
      "outputs": [
        {
          "output_type": "execute_result",
          "data": {
            "text/plain": [
              "     Unnamed: 0       Category  Age  Sex   ALB    ALP    ALT    AST   BIL  \\\n",
              "0             1  0=Blood Donor   32    0  38.5   52.5    7.7   22.1   7.5   \n",
              "1             2  0=Blood Donor   32    0  38.5   70.3   18.0   24.7   3.9   \n",
              "2             3  0=Blood Donor   32    0  46.9   74.7   36.2   52.6   6.1   \n",
              "3             4  0=Blood Donor   32    0  43.2   52.0   30.6   22.6  18.9   \n",
              "4             5  0=Blood Donor   32    0  39.2   74.1   32.6   24.8   9.6   \n",
              "..          ...            ...  ...  ...   ...    ...    ...    ...   ...   \n",
              "610         611    3=Cirrhosis   62    1  32.0  416.6    5.9  110.3  50.0   \n",
              "611         612    3=Cirrhosis   64    1  24.0  102.8    2.9   44.4  20.0   \n",
              "612         613    3=Cirrhosis   64    1  29.0   87.3    3.5   99.0  48.0   \n",
              "613         614    3=Cirrhosis   46    1  33.0    NaN   39.0   62.0  20.0   \n",
              "614         615    3=Cirrhosis   59    1  36.0    NaN  100.0   80.0  12.0   \n",
              "\n",
              "       CHE  CHOL   CREA    GGT  PROT  \n",
              "0     6.93  3.23  106.0   12.1  69.0  \n",
              "1    11.17  4.80   74.0   15.6  76.5  \n",
              "2     8.84  5.20   86.0   33.2  79.3  \n",
              "3     7.33  4.74   80.0   33.8  75.7  \n",
              "4     9.15  4.32   76.0   29.9  68.7  \n",
              "..     ...   ...    ...    ...   ...  \n",
              "610   5.57  6.30   55.7  650.9  68.5  \n",
              "611   1.54  3.02   63.0   35.9  71.3  \n",
              "612   1.66  3.63   66.7   64.2  82.0  \n",
              "613   3.56  4.20   52.0   50.0  71.0  \n",
              "614   9.07  5.30   67.0   34.0  68.0  \n",
              "\n",
              "[615 rows x 14 columns]"
            ],
            "text/html": [
              "\n",
              "  <div id=\"df-2d58ca8c-79a8-442c-841c-51a72d304c70\">\n",
              "    <div class=\"colab-df-container\">\n",
              "      <div>\n",
              "<style scoped>\n",
              "    .dataframe tbody tr th:only-of-type {\n",
              "        vertical-align: middle;\n",
              "    }\n",
              "\n",
              "    .dataframe tbody tr th {\n",
              "        vertical-align: top;\n",
              "    }\n",
              "\n",
              "    .dataframe thead th {\n",
              "        text-align: right;\n",
              "    }\n",
              "</style>\n",
              "<table border=\"1\" class=\"dataframe\">\n",
              "  <thead>\n",
              "    <tr style=\"text-align: right;\">\n",
              "      <th></th>\n",
              "      <th>Unnamed: 0</th>\n",
              "      <th>Category</th>\n",
              "      <th>Age</th>\n",
              "      <th>Sex</th>\n",
              "      <th>ALB</th>\n",
              "      <th>ALP</th>\n",
              "      <th>ALT</th>\n",
              "      <th>AST</th>\n",
              "      <th>BIL</th>\n",
              "      <th>CHE</th>\n",
              "      <th>CHOL</th>\n",
              "      <th>CREA</th>\n",
              "      <th>GGT</th>\n",
              "      <th>PROT</th>\n",
              "    </tr>\n",
              "  </thead>\n",
              "  <tbody>\n",
              "    <tr>\n",
              "      <th>0</th>\n",
              "      <td>1</td>\n",
              "      <td>0=Blood Donor</td>\n",
              "      <td>32</td>\n",
              "      <td>0</td>\n",
              "      <td>38.5</td>\n",
              "      <td>52.5</td>\n",
              "      <td>7.7</td>\n",
              "      <td>22.1</td>\n",
              "      <td>7.5</td>\n",
              "      <td>6.93</td>\n",
              "      <td>3.23</td>\n",
              "      <td>106.0</td>\n",
              "      <td>12.1</td>\n",
              "      <td>69.0</td>\n",
              "    </tr>\n",
              "    <tr>\n",
              "      <th>1</th>\n",
              "      <td>2</td>\n",
              "      <td>0=Blood Donor</td>\n",
              "      <td>32</td>\n",
              "      <td>0</td>\n",
              "      <td>38.5</td>\n",
              "      <td>70.3</td>\n",
              "      <td>18.0</td>\n",
              "      <td>24.7</td>\n",
              "      <td>3.9</td>\n",
              "      <td>11.17</td>\n",
              "      <td>4.80</td>\n",
              "      <td>74.0</td>\n",
              "      <td>15.6</td>\n",
              "      <td>76.5</td>\n",
              "    </tr>\n",
              "    <tr>\n",
              "      <th>2</th>\n",
              "      <td>3</td>\n",
              "      <td>0=Blood Donor</td>\n",
              "      <td>32</td>\n",
              "      <td>0</td>\n",
              "      <td>46.9</td>\n",
              "      <td>74.7</td>\n",
              "      <td>36.2</td>\n",
              "      <td>52.6</td>\n",
              "      <td>6.1</td>\n",
              "      <td>8.84</td>\n",
              "      <td>5.20</td>\n",
              "      <td>86.0</td>\n",
              "      <td>33.2</td>\n",
              "      <td>79.3</td>\n",
              "    </tr>\n",
              "    <tr>\n",
              "      <th>3</th>\n",
              "      <td>4</td>\n",
              "      <td>0=Blood Donor</td>\n",
              "      <td>32</td>\n",
              "      <td>0</td>\n",
              "      <td>43.2</td>\n",
              "      <td>52.0</td>\n",
              "      <td>30.6</td>\n",
              "      <td>22.6</td>\n",
              "      <td>18.9</td>\n",
              "      <td>7.33</td>\n",
              "      <td>4.74</td>\n",
              "      <td>80.0</td>\n",
              "      <td>33.8</td>\n",
              "      <td>75.7</td>\n",
              "    </tr>\n",
              "    <tr>\n",
              "      <th>4</th>\n",
              "      <td>5</td>\n",
              "      <td>0=Blood Donor</td>\n",
              "      <td>32</td>\n",
              "      <td>0</td>\n",
              "      <td>39.2</td>\n",
              "      <td>74.1</td>\n",
              "      <td>32.6</td>\n",
              "      <td>24.8</td>\n",
              "      <td>9.6</td>\n",
              "      <td>9.15</td>\n",
              "      <td>4.32</td>\n",
              "      <td>76.0</td>\n",
              "      <td>29.9</td>\n",
              "      <td>68.7</td>\n",
              "    </tr>\n",
              "    <tr>\n",
              "      <th>...</th>\n",
              "      <td>...</td>\n",
              "      <td>...</td>\n",
              "      <td>...</td>\n",
              "      <td>...</td>\n",
              "      <td>...</td>\n",
              "      <td>...</td>\n",
              "      <td>...</td>\n",
              "      <td>...</td>\n",
              "      <td>...</td>\n",
              "      <td>...</td>\n",
              "      <td>...</td>\n",
              "      <td>...</td>\n",
              "      <td>...</td>\n",
              "      <td>...</td>\n",
              "    </tr>\n",
              "    <tr>\n",
              "      <th>610</th>\n",
              "      <td>611</td>\n",
              "      <td>3=Cirrhosis</td>\n",
              "      <td>62</td>\n",
              "      <td>1</td>\n",
              "      <td>32.0</td>\n",
              "      <td>416.6</td>\n",
              "      <td>5.9</td>\n",
              "      <td>110.3</td>\n",
              "      <td>50.0</td>\n",
              "      <td>5.57</td>\n",
              "      <td>6.30</td>\n",
              "      <td>55.7</td>\n",
              "      <td>650.9</td>\n",
              "      <td>68.5</td>\n",
              "    </tr>\n",
              "    <tr>\n",
              "      <th>611</th>\n",
              "      <td>612</td>\n",
              "      <td>3=Cirrhosis</td>\n",
              "      <td>64</td>\n",
              "      <td>1</td>\n",
              "      <td>24.0</td>\n",
              "      <td>102.8</td>\n",
              "      <td>2.9</td>\n",
              "      <td>44.4</td>\n",
              "      <td>20.0</td>\n",
              "      <td>1.54</td>\n",
              "      <td>3.02</td>\n",
              "      <td>63.0</td>\n",
              "      <td>35.9</td>\n",
              "      <td>71.3</td>\n",
              "    </tr>\n",
              "    <tr>\n",
              "      <th>612</th>\n",
              "      <td>613</td>\n",
              "      <td>3=Cirrhosis</td>\n",
              "      <td>64</td>\n",
              "      <td>1</td>\n",
              "      <td>29.0</td>\n",
              "      <td>87.3</td>\n",
              "      <td>3.5</td>\n",
              "      <td>99.0</td>\n",
              "      <td>48.0</td>\n",
              "      <td>1.66</td>\n",
              "      <td>3.63</td>\n",
              "      <td>66.7</td>\n",
              "      <td>64.2</td>\n",
              "      <td>82.0</td>\n",
              "    </tr>\n",
              "    <tr>\n",
              "      <th>613</th>\n",
              "      <td>614</td>\n",
              "      <td>3=Cirrhosis</td>\n",
              "      <td>46</td>\n",
              "      <td>1</td>\n",
              "      <td>33.0</td>\n",
              "      <td>NaN</td>\n",
              "      <td>39.0</td>\n",
              "      <td>62.0</td>\n",
              "      <td>20.0</td>\n",
              "      <td>3.56</td>\n",
              "      <td>4.20</td>\n",
              "      <td>52.0</td>\n",
              "      <td>50.0</td>\n",
              "      <td>71.0</td>\n",
              "    </tr>\n",
              "    <tr>\n",
              "      <th>614</th>\n",
              "      <td>615</td>\n",
              "      <td>3=Cirrhosis</td>\n",
              "      <td>59</td>\n",
              "      <td>1</td>\n",
              "      <td>36.0</td>\n",
              "      <td>NaN</td>\n",
              "      <td>100.0</td>\n",
              "      <td>80.0</td>\n",
              "      <td>12.0</td>\n",
              "      <td>9.07</td>\n",
              "      <td>5.30</td>\n",
              "      <td>67.0</td>\n",
              "      <td>34.0</td>\n",
              "      <td>68.0</td>\n",
              "    </tr>\n",
              "  </tbody>\n",
              "</table>\n",
              "<p>615 rows × 14 columns</p>\n",
              "</div>\n",
              "      <button class=\"colab-df-convert\" onclick=\"convertToInteractive('df-2d58ca8c-79a8-442c-841c-51a72d304c70')\"\n",
              "              title=\"Convert this dataframe to an interactive table.\"\n",
              "              style=\"display:none;\">\n",
              "        \n",
              "  <svg xmlns=\"http://www.w3.org/2000/svg\" height=\"24px\"viewBox=\"0 0 24 24\"\n",
              "       width=\"24px\">\n",
              "    <path d=\"M0 0h24v24H0V0z\" fill=\"none\"/>\n",
              "    <path d=\"M18.56 5.44l.94 2.06.94-2.06 2.06-.94-2.06-.94-.94-2.06-.94 2.06-2.06.94zm-11 1L8.5 8.5l.94-2.06 2.06-.94-2.06-.94L8.5 2.5l-.94 2.06-2.06.94zm10 10l.94 2.06.94-2.06 2.06-.94-2.06-.94-.94-2.06-.94 2.06-2.06.94z\"/><path d=\"M17.41 7.96l-1.37-1.37c-.4-.4-.92-.59-1.43-.59-.52 0-1.04.2-1.43.59L10.3 9.45l-7.72 7.72c-.78.78-.78 2.05 0 2.83L4 21.41c.39.39.9.59 1.41.59.51 0 1.02-.2 1.41-.59l7.78-7.78 2.81-2.81c.8-.78.8-2.07 0-2.86zM5.41 20L4 18.59l7.72-7.72 1.47 1.35L5.41 20z\"/>\n",
              "  </svg>\n",
              "      </button>\n",
              "      \n",
              "  <style>\n",
              "    .colab-df-container {\n",
              "      display:flex;\n",
              "      flex-wrap:wrap;\n",
              "      gap: 12px;\n",
              "    }\n",
              "\n",
              "    .colab-df-convert {\n",
              "      background-color: #E8F0FE;\n",
              "      border: none;\n",
              "      border-radius: 50%;\n",
              "      cursor: pointer;\n",
              "      display: none;\n",
              "      fill: #1967D2;\n",
              "      height: 32px;\n",
              "      padding: 0 0 0 0;\n",
              "      width: 32px;\n",
              "    }\n",
              "\n",
              "    .colab-df-convert:hover {\n",
              "      background-color: #E2EBFA;\n",
              "      box-shadow: 0px 1px 2px rgba(60, 64, 67, 0.3), 0px 1px 3px 1px rgba(60, 64, 67, 0.15);\n",
              "      fill: #174EA6;\n",
              "    }\n",
              "\n",
              "    [theme=dark] .colab-df-convert {\n",
              "      background-color: #3B4455;\n",
              "      fill: #D2E3FC;\n",
              "    }\n",
              "\n",
              "    [theme=dark] .colab-df-convert:hover {\n",
              "      background-color: #434B5C;\n",
              "      box-shadow: 0px 1px 3px 1px rgba(0, 0, 0, 0.15);\n",
              "      filter: drop-shadow(0px 1px 2px rgba(0, 0, 0, 0.3));\n",
              "      fill: #FFFFFF;\n",
              "    }\n",
              "  </style>\n",
              "\n",
              "      <script>\n",
              "        const buttonEl =\n",
              "          document.querySelector('#df-2d58ca8c-79a8-442c-841c-51a72d304c70 button.colab-df-convert');\n",
              "        buttonEl.style.display =\n",
              "          google.colab.kernel.accessAllowed ? 'block' : 'none';\n",
              "\n",
              "        async function convertToInteractive(key) {\n",
              "          const element = document.querySelector('#df-2d58ca8c-79a8-442c-841c-51a72d304c70');\n",
              "          const dataTable =\n",
              "            await google.colab.kernel.invokeFunction('convertToInteractive',\n",
              "                                                     [key], {});\n",
              "          if (!dataTable) return;\n",
              "\n",
              "          const docLinkHtml = 'Like what you see? Visit the ' +\n",
              "            '<a target=\"_blank\" href=https://colab.research.google.com/notebooks/data_table.ipynb>data table notebook</a>'\n",
              "            + ' to learn more about interactive tables.';\n",
              "          element.innerHTML = '';\n",
              "          dataTable['output_type'] = 'display_data';\n",
              "          await google.colab.output.renderOutput(dataTable, element);\n",
              "          const docLink = document.createElement('div');\n",
              "          docLink.innerHTML = docLinkHtml;\n",
              "          element.appendChild(docLink);\n",
              "        }\n",
              "      </script>\n",
              "    </div>\n",
              "  </div>\n",
              "  "
            ]
          },
          "metadata": {},
          "execution_count": 350
        }
      ]
    },
    {
      "cell_type": "code",
      "source": [
        "df.info"
      ],
      "metadata": {
        "colab": {
          "base_uri": "https://localhost:8080/"
        },
        "id": "j9cYcztiEOLK",
        "outputId": "296be8a5-ed7b-4a0b-f6a1-6b3d7d8f4899"
      },
      "execution_count": 351,
      "outputs": [
        {
          "output_type": "execute_result",
          "data": {
            "text/plain": [
              "<bound method DataFrame.info of      Unnamed: 0       Category  Age  Sex   ALB    ALP    ALT    AST   BIL  \\\n",
              "0             1  0=Blood Donor   32    0  38.5   52.5    7.7   22.1   7.5   \n",
              "1             2  0=Blood Donor   32    0  38.5   70.3   18.0   24.7   3.9   \n",
              "2             3  0=Blood Donor   32    0  46.9   74.7   36.2   52.6   6.1   \n",
              "3             4  0=Blood Donor   32    0  43.2   52.0   30.6   22.6  18.9   \n",
              "4             5  0=Blood Donor   32    0  39.2   74.1   32.6   24.8   9.6   \n",
              "..          ...            ...  ...  ...   ...    ...    ...    ...   ...   \n",
              "610         611    3=Cirrhosis   62    1  32.0  416.6    5.9  110.3  50.0   \n",
              "611         612    3=Cirrhosis   64    1  24.0  102.8    2.9   44.4  20.0   \n",
              "612         613    3=Cirrhosis   64    1  29.0   87.3    3.5   99.0  48.0   \n",
              "613         614    3=Cirrhosis   46    1  33.0    NaN   39.0   62.0  20.0   \n",
              "614         615    3=Cirrhosis   59    1  36.0    NaN  100.0   80.0  12.0   \n",
              "\n",
              "       CHE  CHOL   CREA    GGT  PROT  \n",
              "0     6.93  3.23  106.0   12.1  69.0  \n",
              "1    11.17  4.80   74.0   15.6  76.5  \n",
              "2     8.84  5.20   86.0   33.2  79.3  \n",
              "3     7.33  4.74   80.0   33.8  75.7  \n",
              "4     9.15  4.32   76.0   29.9  68.7  \n",
              "..     ...   ...    ...    ...   ...  \n",
              "610   5.57  6.30   55.7  650.9  68.5  \n",
              "611   1.54  3.02   63.0   35.9  71.3  \n",
              "612   1.66  3.63   66.7   64.2  82.0  \n",
              "613   3.56  4.20   52.0   50.0  71.0  \n",
              "614   9.07  5.30   67.0   34.0  68.0  \n",
              "\n",
              "[615 rows x 14 columns]>"
            ]
          },
          "metadata": {},
          "execution_count": 351
        }
      ]
    },
    {
      "cell_type": "markdown",
      "source": [
        "Let's now check the presence on Nan instances in the dataset. \n",
        "If present, we would need to define a strategy to deal with missing values \n"
      ],
      "metadata": {
        "id": "kEZw-nnvQlYT"
      }
    },
    {
      "cell_type": "code",
      "source": [
        "df.isnull().sum()\n",
        "#We have a few missing values in the dataset. \n",
        "#The total number of missing instances is 31 which represents the 5.04% (max estimation) of the overal dataset. \n",
        "#Give the small percentage, I will delete the missing value instances"
      ],
      "metadata": {
        "colab": {
          "base_uri": "https://localhost:8080/"
        },
        "id": "qQ-sus8VEhhr",
        "outputId": "cda9a66a-27fa-4417-ce6a-09e4c505cf88"
      },
      "execution_count": 352,
      "outputs": [
        {
          "output_type": "execute_result",
          "data": {
            "text/plain": [
              "Unnamed: 0     0\n",
              "Category       0\n",
              "Age            0\n",
              "Sex            0\n",
              "ALB            1\n",
              "ALP           18\n",
              "ALT            1\n",
              "AST            0\n",
              "BIL            0\n",
              "CHE            0\n",
              "CHOL          10\n",
              "CREA           0\n",
              "GGT            0\n",
              "PROT           1\n",
              "dtype: int64"
            ]
          },
          "metadata": {},
          "execution_count": 352
        }
      ]
    },
    {
      "cell_type": "code",
      "source": [
        "df = df.dropna(axis=0)"
      ],
      "metadata": {
        "id": "Q6tfCccKRAr1"
      },
      "execution_count": 353,
      "outputs": []
    },
    {
      "cell_type": "code",
      "source": [
        "df.isnull().sum()\n",
        "#Now we can see we have no longer missing values in the dataset"
      ],
      "metadata": {
        "colab": {
          "base_uri": "https://localhost:8080/"
        },
        "id": "nRrCHsedFDqs",
        "outputId": "b383e87c-5687-41bb-ffbd-e083c468a07a"
      },
      "execution_count": 354,
      "outputs": [
        {
          "output_type": "execute_result",
          "data": {
            "text/plain": [
              "Unnamed: 0    0\n",
              "Category      0\n",
              "Age           0\n",
              "Sex           0\n",
              "ALB           0\n",
              "ALP           0\n",
              "ALT           0\n",
              "AST           0\n",
              "BIL           0\n",
              "CHE           0\n",
              "CHOL          0\n",
              "CREA          0\n",
              "GGT           0\n",
              "PROT          0\n",
              "dtype: int64"
            ]
          },
          "metadata": {},
          "execution_count": 354
        }
      ]
    },
    {
      "cell_type": "markdown",
      "source": [
        "Let's now extrapolate the matrix of predictors and the outcome vector (y) from the full dataset"
      ],
      "metadata": {
        "id": "v8me7cxaVVPI"
      }
    },
    {
      "cell_type": "code",
      "source": [
        "#let's now extrapolate the outcome variable from the full dataset\n",
        "y = df.loc[:,'Category'].values\n",
        "y"
      ],
      "metadata": {
        "colab": {
          "base_uri": "https://localhost:8080/"
        },
        "id": "SXnA4w3lB0Ek",
        "outputId": "6b379927-96ec-4951-de6c-10c8e0da44ac"
      },
      "execution_count": 355,
      "outputs": [
        {
          "output_type": "execute_result",
          "data": {
            "text/plain": [
              "array(['0=Blood Donor', '0=Blood Donor', '0=Blood Donor', '0=Blood Donor',\n",
              "       '0=Blood Donor', '0=Blood Donor', '0=Blood Donor', '0=Blood Donor',\n",
              "       '0=Blood Donor', '0=Blood Donor', '0=Blood Donor', '0=Blood Donor',\n",
              "       '0=Blood Donor', '0=Blood Donor', '0=Blood Donor', '0=Blood Donor',\n",
              "       '0=Blood Donor', '0=Blood Donor', '0=Blood Donor', '0=Blood Donor',\n",
              "       '0=Blood Donor', '0=Blood Donor', '0=Blood Donor', '0=Blood Donor',\n",
              "       '0=Blood Donor', '0=Blood Donor', '0=Blood Donor', '0=Blood Donor',\n",
              "       '0=Blood Donor', '0=Blood Donor', '0=Blood Donor', '0=Blood Donor',\n",
              "       '0=Blood Donor', '0=Blood Donor', '0=Blood Donor', '0=Blood Donor',\n",
              "       '0=Blood Donor', '0=Blood Donor', '0=Blood Donor', '0=Blood Donor',\n",
              "       '0=Blood Donor', '0=Blood Donor', '0=Blood Donor', '0=Blood Donor',\n",
              "       '0=Blood Donor', '0=Blood Donor', '0=Blood Donor', '0=Blood Donor',\n",
              "       '0=Blood Donor', '0=Blood Donor', '0=Blood Donor', '0=Blood Donor',\n",
              "       '0=Blood Donor', '0=Blood Donor', '0=Blood Donor', '0=Blood Donor',\n",
              "       '0=Blood Donor', '0=Blood Donor', '0=Blood Donor', '0=Blood Donor',\n",
              "       '0=Blood Donor', '0=Blood Donor', '0=Blood Donor', '0=Blood Donor',\n",
              "       '0=Blood Donor', '0=Blood Donor', '0=Blood Donor', '0=Blood Donor',\n",
              "       '0=Blood Donor', '0=Blood Donor', '0=Blood Donor', '0=Blood Donor',\n",
              "       '0=Blood Donor', '0=Blood Donor', '0=Blood Donor', '0=Blood Donor',\n",
              "       '0=Blood Donor', '0=Blood Donor', '0=Blood Donor', '0=Blood Donor',\n",
              "       '0=Blood Donor', '0=Blood Donor', '0=Blood Donor', '0=Blood Donor',\n",
              "       '0=Blood Donor', '0=Blood Donor', '0=Blood Donor', '0=Blood Donor',\n",
              "       '0=Blood Donor', '0=Blood Donor', '0=Blood Donor', '0=Blood Donor',\n",
              "       '0=Blood Donor', '0=Blood Donor', '0=Blood Donor', '0=Blood Donor',\n",
              "       '0=Blood Donor', '0=Blood Donor', '0=Blood Donor', '0=Blood Donor',\n",
              "       '0=Blood Donor', '0=Blood Donor', '0=Blood Donor', '0=Blood Donor',\n",
              "       '0=Blood Donor', '0=Blood Donor', '0=Blood Donor', '0=Blood Donor',\n",
              "       '0=Blood Donor', '0=Blood Donor', '0=Blood Donor', '0=Blood Donor',\n",
              "       '0=Blood Donor', '0=Blood Donor', '0=Blood Donor', '0=Blood Donor',\n",
              "       '0=Blood Donor', '0=Blood Donor', '0=Blood Donor', '0=Blood Donor',\n",
              "       '0=Blood Donor', '0=Blood Donor', '0=Blood Donor', '0=Blood Donor',\n",
              "       '0=Blood Donor', '0=Blood Donor', '0=Blood Donor', '0=Blood Donor',\n",
              "       '0=Blood Donor', '0=Blood Donor', '0=Blood Donor', '0=Blood Donor',\n",
              "       '0=Blood Donor', '0=Blood Donor', '0=Blood Donor', '0=Blood Donor',\n",
              "       '0=Blood Donor', '0=Blood Donor', '0=Blood Donor', '0=Blood Donor',\n",
              "       '0=Blood Donor', '0=Blood Donor', '0=Blood Donor', '0=Blood Donor',\n",
              "       '0=Blood Donor', '0=Blood Donor', '0=Blood Donor', '0=Blood Donor',\n",
              "       '0=Blood Donor', '0=Blood Donor', '0=Blood Donor', '0=Blood Donor',\n",
              "       '0=Blood Donor', '0=Blood Donor', '0=Blood Donor', '0=Blood Donor',\n",
              "       '0=Blood Donor', '0=Blood Donor', '0=Blood Donor', '0=Blood Donor',\n",
              "       '0=Blood Donor', '0=Blood Donor', '0=Blood Donor', '0=Blood Donor',\n",
              "       '0=Blood Donor', '0=Blood Donor', '0=Blood Donor', '0=Blood Donor',\n",
              "       '0=Blood Donor', '0=Blood Donor', '0=Blood Donor', '0=Blood Donor',\n",
              "       '0=Blood Donor', '0=Blood Donor', '0=Blood Donor', '0=Blood Donor',\n",
              "       '0=Blood Donor', '0=Blood Donor', '0=Blood Donor', '0=Blood Donor',\n",
              "       '0=Blood Donor', '0=Blood Donor', '0=Blood Donor', '0=Blood Donor',\n",
              "       '0=Blood Donor', '0=Blood Donor', '0=Blood Donor', '0=Blood Donor',\n",
              "       '0=Blood Donor', '0=Blood Donor', '0=Blood Donor', '0=Blood Donor',\n",
              "       '0=Blood Donor', '0=Blood Donor', '0=Blood Donor', '0=Blood Donor',\n",
              "       '0=Blood Donor', '0=Blood Donor', '0=Blood Donor', '0=Blood Donor',\n",
              "       '0=Blood Donor', '0=Blood Donor', '0=Blood Donor', '0=Blood Donor',\n",
              "       '0=Blood Donor', '0=Blood Donor', '0=Blood Donor', '0=Blood Donor',\n",
              "       '0=Blood Donor', '0=Blood Donor', '0=Blood Donor', '0=Blood Donor',\n",
              "       '0=Blood Donor', '0=Blood Donor', '0=Blood Donor', '0=Blood Donor',\n",
              "       '0=Blood Donor', '0=Blood Donor', '0=Blood Donor', '0=Blood Donor',\n",
              "       '0=Blood Donor', '0=Blood Donor', '0=Blood Donor', '0=Blood Donor',\n",
              "       '0=Blood Donor', '0=Blood Donor', '0=Blood Donor', '0=Blood Donor',\n",
              "       '0=Blood Donor', '0=Blood Donor', '0=Blood Donor', '0=Blood Donor',\n",
              "       '0=Blood Donor', '0=Blood Donor', '0=Blood Donor', '0=Blood Donor',\n",
              "       '0=Blood Donor', '0=Blood Donor', '0=Blood Donor', '0=Blood Donor',\n",
              "       '0=Blood Donor', '0=Blood Donor', '0=Blood Donor', '0=Blood Donor',\n",
              "       '0=Blood Donor', '0=Blood Donor', '0=Blood Donor', '0=Blood Donor',\n",
              "       '0=Blood Donor', '0=Blood Donor', '0=Blood Donor', '0=Blood Donor',\n",
              "       '0=Blood Donor', '0=Blood Donor', '0=Blood Donor', '0=Blood Donor',\n",
              "       '0=Blood Donor', '0=Blood Donor', '0=Blood Donor', '0=Blood Donor',\n",
              "       '0=Blood Donor', '0=Blood Donor', '0=Blood Donor', '0=Blood Donor',\n",
              "       '0=Blood Donor', '0=Blood Donor', '0=Blood Donor', '0=Blood Donor',\n",
              "       '0=Blood Donor', '0=Blood Donor', '0=Blood Donor', '0=Blood Donor',\n",
              "       '0=Blood Donor', '0=Blood Donor', '0=Blood Donor', '0=Blood Donor',\n",
              "       '0=Blood Donor', '0=Blood Donor', '0=Blood Donor', '0=Blood Donor',\n",
              "       '0=Blood Donor', '0=Blood Donor', '0=Blood Donor', '0=Blood Donor',\n",
              "       '0=Blood Donor', '0=Blood Donor', '0=Blood Donor', '0=Blood Donor',\n",
              "       '0=Blood Donor', '0=Blood Donor', '0=Blood Donor', '0=Blood Donor',\n",
              "       '0=Blood Donor', '0=Blood Donor', '0=Blood Donor', '0=Blood Donor',\n",
              "       '0=Blood Donor', '0=Blood Donor', '0=Blood Donor', '0=Blood Donor',\n",
              "       '0=Blood Donor', '0=Blood Donor', '0=Blood Donor', '0=Blood Donor',\n",
              "       '0=Blood Donor', '0=Blood Donor', '0=Blood Donor', '0=Blood Donor',\n",
              "       '0=Blood Donor', '0=Blood Donor', '0=Blood Donor', '0=Blood Donor',\n",
              "       '0=Blood Donor', '0=Blood Donor', '0=Blood Donor', '0=Blood Donor',\n",
              "       '0=Blood Donor', '0=Blood Donor', '0=Blood Donor', '0=Blood Donor',\n",
              "       '0=Blood Donor', '0=Blood Donor', '0=Blood Donor', '0=Blood Donor',\n",
              "       '0=Blood Donor', '0=Blood Donor', '0=Blood Donor', '0=Blood Donor',\n",
              "       '0=Blood Donor', '0=Blood Donor', '0=Blood Donor', '0=Blood Donor',\n",
              "       '0=Blood Donor', '0=Blood Donor', '0=Blood Donor', '0=Blood Donor',\n",
              "       '0=Blood Donor', '0=Blood Donor', '0=Blood Donor', '0=Blood Donor',\n",
              "       '0=Blood Donor', '0=Blood Donor', '0=Blood Donor', '0=Blood Donor',\n",
              "       '0=Blood Donor', '0=Blood Donor', '0=Blood Donor', '0=Blood Donor',\n",
              "       '0=Blood Donor', '0=Blood Donor', '0=Blood Donor', '0=Blood Donor',\n",
              "       '0=Blood Donor', '0=Blood Donor', '0=Blood Donor', '0=Blood Donor',\n",
              "       '0=Blood Donor', '0=Blood Donor', '0=Blood Donor', '0=Blood Donor',\n",
              "       '0=Blood Donor', '0=Blood Donor', '0=Blood Donor', '0=Blood Donor',\n",
              "       '0=Blood Donor', '0=Blood Donor', '0=Blood Donor', '0=Blood Donor',\n",
              "       '0=Blood Donor', '0=Blood Donor', '0=Blood Donor', '0=Blood Donor',\n",
              "       '0=Blood Donor', '0=Blood Donor', '0=Blood Donor', '0=Blood Donor',\n",
              "       '0=Blood Donor', '0=Blood Donor', '0=Blood Donor', '0=Blood Donor',\n",
              "       '0=Blood Donor', '0=Blood Donor', '0=Blood Donor', '0=Blood Donor',\n",
              "       '0=Blood Donor', '0=Blood Donor', '0=Blood Donor', '0=Blood Donor',\n",
              "       '0=Blood Donor', '0=Blood Donor', '0=Blood Donor', '0=Blood Donor',\n",
              "       '0=Blood Donor', '0=Blood Donor', '0=Blood Donor', '0=Blood Donor',\n",
              "       '0=Blood Donor', '0=Blood Donor', '0=Blood Donor', '0=Blood Donor',\n",
              "       '0=Blood Donor', '0=Blood Donor', '0=Blood Donor', '0=Blood Donor',\n",
              "       '0=Blood Donor', '0=Blood Donor', '0=Blood Donor', '0=Blood Donor',\n",
              "       '0=Blood Donor', '0=Blood Donor', '0=Blood Donor', '0=Blood Donor',\n",
              "       '0=Blood Donor', '0=Blood Donor', '0=Blood Donor', '0=Blood Donor',\n",
              "       '0=Blood Donor', '0=Blood Donor', '0=Blood Donor', '0=Blood Donor',\n",
              "       '0=Blood Donor', '0=Blood Donor', '0=Blood Donor', '0=Blood Donor',\n",
              "       '0=Blood Donor', '0=Blood Donor', '0=Blood Donor', '0=Blood Donor',\n",
              "       '0=Blood Donor', '0=Blood Donor', '0=Blood Donor', '0=Blood Donor',\n",
              "       '0=Blood Donor', '0=Blood Donor', '0=Blood Donor', '0=Blood Donor',\n",
              "       '0=Blood Donor', '0=Blood Donor', '0=Blood Donor', '0=Blood Donor',\n",
              "       '0=Blood Donor', '0=Blood Donor', '0=Blood Donor', '0=Blood Donor',\n",
              "       '0=Blood Donor', '0=Blood Donor', '0=Blood Donor', '0=Blood Donor',\n",
              "       '0=Blood Donor', '0=Blood Donor', '0=Blood Donor', '0=Blood Donor',\n",
              "       '0=Blood Donor', '0=Blood Donor', '0=Blood Donor', '0=Blood Donor',\n",
              "       '0=Blood Donor', '0=Blood Donor', '0=Blood Donor', '0=Blood Donor',\n",
              "       '0=Blood Donor', '0=Blood Donor', '0=Blood Donor', '0=Blood Donor',\n",
              "       '0=Blood Donor', '0=Blood Donor', '0=Blood Donor', '0=Blood Donor',\n",
              "       '0=Blood Donor', '0=Blood Donor', '0=Blood Donor', '0=Blood Donor',\n",
              "       '0=Blood Donor', '0=Blood Donor', '0=Blood Donor', '0=Blood Donor',\n",
              "       '0=Blood Donor', '0=Blood Donor', '0=Blood Donor', '0=Blood Donor',\n",
              "       '0=Blood Donor', '0=Blood Donor', '0=Blood Donor', '0=Blood Donor',\n",
              "       '0=Blood Donor', '0=Blood Donor', '0=Blood Donor', '0=Blood Donor',\n",
              "       '0=Blood Donor', '0=Blood Donor', '0=Blood Donor', '0=Blood Donor',\n",
              "       '0=Blood Donor', '0=Blood Donor', '0=Blood Donor', '0=Blood Donor',\n",
              "       '0=Blood Donor', '0=Blood Donor', '0=Blood Donor', '0=Blood Donor',\n",
              "       '0=Blood Donor', '0=Blood Donor', '0=Blood Donor', '0=Blood Donor',\n",
              "       '0=Blood Donor', '0=Blood Donor', '0=Blood Donor', '0=Blood Donor',\n",
              "       '0=Blood Donor', '0=Blood Donor', '0=Blood Donor', '0=Blood Donor',\n",
              "       '0=Blood Donor', '0=Blood Donor', '0=Blood Donor', '0=Blood Donor',\n",
              "       '0=Blood Donor', '0=Blood Donor', '0=Blood Donor', '0=Blood Donor',\n",
              "       '0=Blood Donor', '0=Blood Donor', '0=Blood Donor', '0=Blood Donor',\n",
              "       '0=Blood Donor', '0=Blood Donor', '0s=suspect Blood Donor',\n",
              "       '0s=suspect Blood Donor', '0s=suspect Blood Donor',\n",
              "       '0s=suspect Blood Donor', '0s=suspect Blood Donor',\n",
              "       '0s=suspect Blood Donor', '0s=suspect Blood Donor', '1=Hepatitis',\n",
              "       '1=Hepatitis', '1=Hepatitis', '1=Hepatitis', '1=Hepatitis',\n",
              "       '1=Hepatitis', '1=Hepatitis', '1=Hepatitis', '1=Hepatitis',\n",
              "       '1=Hepatitis', '1=Hepatitis', '1=Hepatitis', '1=Hepatitis',\n",
              "       '1=Hepatitis', '1=Hepatitis', '1=Hepatitis', '1=Hepatitis',\n",
              "       '1=Hepatitis', '1=Hepatitis', '1=Hepatitis', '2=Fibrosis',\n",
              "       '2=Fibrosis', '2=Fibrosis', '2=Fibrosis', '2=Fibrosis',\n",
              "       '2=Fibrosis', '2=Fibrosis', '2=Fibrosis', '2=Fibrosis',\n",
              "       '2=Fibrosis', '2=Fibrosis', '2=Fibrosis', '3=Cirrhosis',\n",
              "       '3=Cirrhosis', '3=Cirrhosis', '3=Cirrhosis', '3=Cirrhosis',\n",
              "       '3=Cirrhosis', '3=Cirrhosis', '3=Cirrhosis', '3=Cirrhosis',\n",
              "       '3=Cirrhosis', '3=Cirrhosis', '3=Cirrhosis', '3=Cirrhosis',\n",
              "       '3=Cirrhosis', '3=Cirrhosis', '3=Cirrhosis', '3=Cirrhosis',\n",
              "       '3=Cirrhosis', '3=Cirrhosis', '3=Cirrhosis', '3=Cirrhosis',\n",
              "       '3=Cirrhosis', '3=Cirrhosis', '3=Cirrhosis'], dtype=object)"
            ]
          },
          "metadata": {},
          "execution_count": 355
        }
      ]
    },
    {
      "cell_type": "code",
      "source": [
        "#Let's now convert the outcome variable 'Category' into a numerical format"
      ],
      "metadata": {
        "id": "mQKeztTnCQX-"
      },
      "execution_count": 356,
      "outputs": []
    },
    {
      "cell_type": "code",
      "source": [
        "le = LabelEncoder()"
      ],
      "metadata": {
        "id": "s3zGbzMyCSMs"
      },
      "execution_count": 357,
      "outputs": []
    },
    {
      "cell_type": "code",
      "source": [
        "y = le.fit_transform(y)\n",
        "y\n",
        "#len(y) #check if the length of the vector 'y' corresponds to the length of the full dataset"
      ],
      "metadata": {
        "colab": {
          "base_uri": "https://localhost:8080/"
        },
        "id": "DFa_6pkDCVcs",
        "outputId": "c6f1bb9e-d8a8-4dd5-897f-d0b9f3e679ed"
      },
      "execution_count": 358,
      "outputs": [
        {
          "output_type": "execute_result",
          "data": {
            "text/plain": [
              "array([0, 0, 0, 0, 0, 0, 0, 0, 0, 0, 0, 0, 0, 0, 0, 0, 0, 0, 0, 0, 0, 0,\n",
              "       0, 0, 0, 0, 0, 0, 0, 0, 0, 0, 0, 0, 0, 0, 0, 0, 0, 0, 0, 0, 0, 0,\n",
              "       0, 0, 0, 0, 0, 0, 0, 0, 0, 0, 0, 0, 0, 0, 0, 0, 0, 0, 0, 0, 0, 0,\n",
              "       0, 0, 0, 0, 0, 0, 0, 0, 0, 0, 0, 0, 0, 0, 0, 0, 0, 0, 0, 0, 0, 0,\n",
              "       0, 0, 0, 0, 0, 0, 0, 0, 0, 0, 0, 0, 0, 0, 0, 0, 0, 0, 0, 0, 0, 0,\n",
              "       0, 0, 0, 0, 0, 0, 0, 0, 0, 0, 0, 0, 0, 0, 0, 0, 0, 0, 0, 0, 0, 0,\n",
              "       0, 0, 0, 0, 0, 0, 0, 0, 0, 0, 0, 0, 0, 0, 0, 0, 0, 0, 0, 0, 0, 0,\n",
              "       0, 0, 0, 0, 0, 0, 0, 0, 0, 0, 0, 0, 0, 0, 0, 0, 0, 0, 0, 0, 0, 0,\n",
              "       0, 0, 0, 0, 0, 0, 0, 0, 0, 0, 0, 0, 0, 0, 0, 0, 0, 0, 0, 0, 0, 0,\n",
              "       0, 0, 0, 0, 0, 0, 0, 0, 0, 0, 0, 0, 0, 0, 0, 0, 0, 0, 0, 0, 0, 0,\n",
              "       0, 0, 0, 0, 0, 0, 0, 0, 0, 0, 0, 0, 0, 0, 0, 0, 0, 0, 0, 0, 0, 0,\n",
              "       0, 0, 0, 0, 0, 0, 0, 0, 0, 0, 0, 0, 0, 0, 0, 0, 0, 0, 0, 0, 0, 0,\n",
              "       0, 0, 0, 0, 0, 0, 0, 0, 0, 0, 0, 0, 0, 0, 0, 0, 0, 0, 0, 0, 0, 0,\n",
              "       0, 0, 0, 0, 0, 0, 0, 0, 0, 0, 0, 0, 0, 0, 0, 0, 0, 0, 0, 0, 0, 0,\n",
              "       0, 0, 0, 0, 0, 0, 0, 0, 0, 0, 0, 0, 0, 0, 0, 0, 0, 0, 0, 0, 0, 0,\n",
              "       0, 0, 0, 0, 0, 0, 0, 0, 0, 0, 0, 0, 0, 0, 0, 0, 0, 0, 0, 0, 0, 0,\n",
              "       0, 0, 0, 0, 0, 0, 0, 0, 0, 0, 0, 0, 0, 0, 0, 0, 0, 0, 0, 0, 0, 0,\n",
              "       0, 0, 0, 0, 0, 0, 0, 0, 0, 0, 0, 0, 0, 0, 0, 0, 0, 0, 0, 0, 0, 0,\n",
              "       0, 0, 0, 0, 0, 0, 0, 0, 0, 0, 0, 0, 0, 0, 0, 0, 0, 0, 0, 0, 0, 0,\n",
              "       0, 0, 0, 0, 0, 0, 0, 0, 0, 0, 0, 0, 0, 0, 0, 0, 0, 0, 0, 0, 0, 0,\n",
              "       0, 0, 0, 0, 0, 0, 0, 0, 0, 0, 0, 0, 0, 0, 0, 0, 0, 0, 0, 0, 0, 0,\n",
              "       0, 0, 0, 0, 0, 0, 0, 0, 0, 0, 0, 0, 0, 0, 0, 0, 0, 0, 0, 0, 0, 0,\n",
              "       0, 0, 0, 0, 0, 0, 0, 0, 0, 0, 0, 0, 0, 0, 0, 0, 0, 0, 0, 0, 0, 0,\n",
              "       0, 0, 0, 0, 0, 0, 0, 0, 0, 0, 0, 0, 0, 0, 0, 0, 0, 0, 0, 0, 1, 1,\n",
              "       1, 1, 1, 1, 1, 2, 2, 2, 2, 2, 2, 2, 2, 2, 2, 2, 2, 2, 2, 2, 2, 2,\n",
              "       2, 2, 2, 3, 3, 3, 3, 3, 3, 3, 3, 3, 3, 3, 3, 4, 4, 4, 4, 4, 4, 4,\n",
              "       4, 4, 4, 4, 4, 4, 4, 4, 4, 4, 4, 4, 4, 4, 4, 4, 4])"
            ]
          },
          "metadata": {},
          "execution_count": 358
        }
      ]
    },
    {
      "cell_type": "code",
      "source": [
        "#in this way y contains only numerical values so that: \n",
        "\n",
        "# 0 = Blood donor\n",
        "# 1 = Suspect Blood donor \n",
        "# 2 = Hepatitis \n",
        "# 3 = Fibrosis \n",
        "# 4 = Cirrhosis"
      ],
      "metadata": {
        "id": "7lvLv1A-gZlF"
      },
      "execution_count": 359,
      "outputs": []
    },
    {
      "cell_type": "code",
      "source": [
        "X = df.drop(['Category', 'Unnamed: 0'], axis = 1).values\n",
        "X"
      ],
      "metadata": {
        "colab": {
          "base_uri": "https://localhost:8080/"
        },
        "outputId": "d7ca991a-c6ed-495e-8a85-ba1e62f6f6c9",
        "id": "zgOxNGy4ROwp"
      },
      "execution_count": 360,
      "outputs": [
        {
          "output_type": "execute_result",
          "data": {
            "text/plain": [
              "array([[ 32. ,   0. ,  38.5, ..., 106. ,  12.1,  69. ],\n",
              "       [ 32. ,   0. ,  38.5, ...,  74. ,  15.6,  76.5],\n",
              "       [ 32. ,   0. ,  46.9, ...,  86. ,  33.2,  79.3],\n",
              "       ...,\n",
              "       [ 62. ,   1. ,  32. , ...,  55.7, 650.9,  68.5],\n",
              "       [ 64. ,   1. ,  24. , ...,  63. ,  35.9,  71.3],\n",
              "       [ 64. ,   1. ,  29. , ...,  66.7,  64.2,  82. ]])"
            ]
          },
          "metadata": {},
          "execution_count": 360
        }
      ]
    },
    {
      "cell_type": "code",
      "source": [
        "#Data in the predictors matrix are then normalized according to the min_max_scaler. \n",
        "#This is done since predictors where characterised by different scales in their values\n",
        "\n",
        "min_max_scaler = preprocessing.MinMaxScaler()\n",
        "X = min_max_scaler.fit_transform(X)\n",
        "X_norm= pd.DataFrame(X)\n",
        "X_norm"
      ],
      "metadata": {
        "colab": {
          "base_uri": "https://localhost:8080/",
          "height": 424
        },
        "outputId": "28c9e112-3d06-4760-8c12-68396c50d617",
        "id": "F0u1ho2Ge9jm"
      },
      "execution_count": 361,
      "outputs": [
        {
          "output_type": "execute_result",
          "data": {
            "text/plain": [
              "           0    1         2         3         4         5         6   \\\n",
              "0    0.166667  0.0  0.350669  0.101653  0.020962  0.036694  0.032181   \n",
              "1    0.166667  0.0  0.350669  0.145571  0.052713  0.044990  0.014890   \n",
              "2    0.166667  0.0  0.475483  0.156427  0.108816  0.134014  0.025456   \n",
              "3    0.166667  0.0  0.420505  0.100419  0.091554  0.038290  0.086936   \n",
              "4    0.166667  0.0  0.361070  0.154947  0.097719  0.045310  0.042267   \n",
              "..        ...  ...       ...       ...       ...       ...       ...   \n",
              "584  0.648148  1.0  0.283804  0.086603  0.043465  0.444799  0.034582   \n",
              "585  0.666667  1.0  0.358098  0.098692  0.057645  0.878111  0.188280   \n",
              "586  0.722222  1.0  0.254086  1.000000  0.015413  0.318124  0.236311   \n",
              "587  0.759259  1.0  0.135215  0.225759  0.006165  0.107849  0.092219   \n",
              "588  0.759259  1.0  0.209510  0.187515  0.008015  0.282068  0.226705   \n",
              "\n",
              "           7         8         9         10        11  \n",
              "0    0.367578  0.218447  0.091495  0.011757  0.580336  \n",
              "1    0.650434  0.408981  0.061619  0.017172  0.760192  \n",
              "2    0.494997  0.457524  0.072822  0.044400  0.827338  \n",
              "3    0.394263  0.401699  0.067221  0.045328  0.741007  \n",
              "4    0.515677  0.350728  0.063486  0.039295  0.573141  \n",
              "..        ...       ...       ...       ...       ...  \n",
              "584  0.322882  0.309466  0.044814  0.069926  0.858513  \n",
              "585  0.290193  0.373786  0.119597  0.149443  0.616307  \n",
              "586  0.276851  0.591019  0.044534  1.000000  0.568345  \n",
              "587  0.008005  0.192961  0.051349  0.048577  0.635492  \n",
              "588  0.016011  0.266990  0.054803  0.092358  0.892086  \n",
              "\n",
              "[589 rows x 12 columns]"
            ],
            "text/html": [
              "\n",
              "  <div id=\"df-bd012353-a504-4701-894a-572d9da9bfbe\">\n",
              "    <div class=\"colab-df-container\">\n",
              "      <div>\n",
              "<style scoped>\n",
              "    .dataframe tbody tr th:only-of-type {\n",
              "        vertical-align: middle;\n",
              "    }\n",
              "\n",
              "    .dataframe tbody tr th {\n",
              "        vertical-align: top;\n",
              "    }\n",
              "\n",
              "    .dataframe thead th {\n",
              "        text-align: right;\n",
              "    }\n",
              "</style>\n",
              "<table border=\"1\" class=\"dataframe\">\n",
              "  <thead>\n",
              "    <tr style=\"text-align: right;\">\n",
              "      <th></th>\n",
              "      <th>0</th>\n",
              "      <th>1</th>\n",
              "      <th>2</th>\n",
              "      <th>3</th>\n",
              "      <th>4</th>\n",
              "      <th>5</th>\n",
              "      <th>6</th>\n",
              "      <th>7</th>\n",
              "      <th>8</th>\n",
              "      <th>9</th>\n",
              "      <th>10</th>\n",
              "      <th>11</th>\n",
              "    </tr>\n",
              "  </thead>\n",
              "  <tbody>\n",
              "    <tr>\n",
              "      <th>0</th>\n",
              "      <td>0.166667</td>\n",
              "      <td>0.0</td>\n",
              "      <td>0.350669</td>\n",
              "      <td>0.101653</td>\n",
              "      <td>0.020962</td>\n",
              "      <td>0.036694</td>\n",
              "      <td>0.032181</td>\n",
              "      <td>0.367578</td>\n",
              "      <td>0.218447</td>\n",
              "      <td>0.091495</td>\n",
              "      <td>0.011757</td>\n",
              "      <td>0.580336</td>\n",
              "    </tr>\n",
              "    <tr>\n",
              "      <th>1</th>\n",
              "      <td>0.166667</td>\n",
              "      <td>0.0</td>\n",
              "      <td>0.350669</td>\n",
              "      <td>0.145571</td>\n",
              "      <td>0.052713</td>\n",
              "      <td>0.044990</td>\n",
              "      <td>0.014890</td>\n",
              "      <td>0.650434</td>\n",
              "      <td>0.408981</td>\n",
              "      <td>0.061619</td>\n",
              "      <td>0.017172</td>\n",
              "      <td>0.760192</td>\n",
              "    </tr>\n",
              "    <tr>\n",
              "      <th>2</th>\n",
              "      <td>0.166667</td>\n",
              "      <td>0.0</td>\n",
              "      <td>0.475483</td>\n",
              "      <td>0.156427</td>\n",
              "      <td>0.108816</td>\n",
              "      <td>0.134014</td>\n",
              "      <td>0.025456</td>\n",
              "      <td>0.494997</td>\n",
              "      <td>0.457524</td>\n",
              "      <td>0.072822</td>\n",
              "      <td>0.044400</td>\n",
              "      <td>0.827338</td>\n",
              "    </tr>\n",
              "    <tr>\n",
              "      <th>3</th>\n",
              "      <td>0.166667</td>\n",
              "      <td>0.0</td>\n",
              "      <td>0.420505</td>\n",
              "      <td>0.100419</td>\n",
              "      <td>0.091554</td>\n",
              "      <td>0.038290</td>\n",
              "      <td>0.086936</td>\n",
              "      <td>0.394263</td>\n",
              "      <td>0.401699</td>\n",
              "      <td>0.067221</td>\n",
              "      <td>0.045328</td>\n",
              "      <td>0.741007</td>\n",
              "    </tr>\n",
              "    <tr>\n",
              "      <th>4</th>\n",
              "      <td>0.166667</td>\n",
              "      <td>0.0</td>\n",
              "      <td>0.361070</td>\n",
              "      <td>0.154947</td>\n",
              "      <td>0.097719</td>\n",
              "      <td>0.045310</td>\n",
              "      <td>0.042267</td>\n",
              "      <td>0.515677</td>\n",
              "      <td>0.350728</td>\n",
              "      <td>0.063486</td>\n",
              "      <td>0.039295</td>\n",
              "      <td>0.573141</td>\n",
              "    </tr>\n",
              "    <tr>\n",
              "      <th>...</th>\n",
              "      <td>...</td>\n",
              "      <td>...</td>\n",
              "      <td>...</td>\n",
              "      <td>...</td>\n",
              "      <td>...</td>\n",
              "      <td>...</td>\n",
              "      <td>...</td>\n",
              "      <td>...</td>\n",
              "      <td>...</td>\n",
              "      <td>...</td>\n",
              "      <td>...</td>\n",
              "      <td>...</td>\n",
              "    </tr>\n",
              "    <tr>\n",
              "      <th>584</th>\n",
              "      <td>0.648148</td>\n",
              "      <td>1.0</td>\n",
              "      <td>0.283804</td>\n",
              "      <td>0.086603</td>\n",
              "      <td>0.043465</td>\n",
              "      <td>0.444799</td>\n",
              "      <td>0.034582</td>\n",
              "      <td>0.322882</td>\n",
              "      <td>0.309466</td>\n",
              "      <td>0.044814</td>\n",
              "      <td>0.069926</td>\n",
              "      <td>0.858513</td>\n",
              "    </tr>\n",
              "    <tr>\n",
              "      <th>585</th>\n",
              "      <td>0.666667</td>\n",
              "      <td>1.0</td>\n",
              "      <td>0.358098</td>\n",
              "      <td>0.098692</td>\n",
              "      <td>0.057645</td>\n",
              "      <td>0.878111</td>\n",
              "      <td>0.188280</td>\n",
              "      <td>0.290193</td>\n",
              "      <td>0.373786</td>\n",
              "      <td>0.119597</td>\n",
              "      <td>0.149443</td>\n",
              "      <td>0.616307</td>\n",
              "    </tr>\n",
              "    <tr>\n",
              "      <th>586</th>\n",
              "      <td>0.722222</td>\n",
              "      <td>1.0</td>\n",
              "      <td>0.254086</td>\n",
              "      <td>1.000000</td>\n",
              "      <td>0.015413</td>\n",
              "      <td>0.318124</td>\n",
              "      <td>0.236311</td>\n",
              "      <td>0.276851</td>\n",
              "      <td>0.591019</td>\n",
              "      <td>0.044534</td>\n",
              "      <td>1.000000</td>\n",
              "      <td>0.568345</td>\n",
              "    </tr>\n",
              "    <tr>\n",
              "      <th>587</th>\n",
              "      <td>0.759259</td>\n",
              "      <td>1.0</td>\n",
              "      <td>0.135215</td>\n",
              "      <td>0.225759</td>\n",
              "      <td>0.006165</td>\n",
              "      <td>0.107849</td>\n",
              "      <td>0.092219</td>\n",
              "      <td>0.008005</td>\n",
              "      <td>0.192961</td>\n",
              "      <td>0.051349</td>\n",
              "      <td>0.048577</td>\n",
              "      <td>0.635492</td>\n",
              "    </tr>\n",
              "    <tr>\n",
              "      <th>588</th>\n",
              "      <td>0.759259</td>\n",
              "      <td>1.0</td>\n",
              "      <td>0.209510</td>\n",
              "      <td>0.187515</td>\n",
              "      <td>0.008015</td>\n",
              "      <td>0.282068</td>\n",
              "      <td>0.226705</td>\n",
              "      <td>0.016011</td>\n",
              "      <td>0.266990</td>\n",
              "      <td>0.054803</td>\n",
              "      <td>0.092358</td>\n",
              "      <td>0.892086</td>\n",
              "    </tr>\n",
              "  </tbody>\n",
              "</table>\n",
              "<p>589 rows × 12 columns</p>\n",
              "</div>\n",
              "      <button class=\"colab-df-convert\" onclick=\"convertToInteractive('df-bd012353-a504-4701-894a-572d9da9bfbe')\"\n",
              "              title=\"Convert this dataframe to an interactive table.\"\n",
              "              style=\"display:none;\">\n",
              "        \n",
              "  <svg xmlns=\"http://www.w3.org/2000/svg\" height=\"24px\"viewBox=\"0 0 24 24\"\n",
              "       width=\"24px\">\n",
              "    <path d=\"M0 0h24v24H0V0z\" fill=\"none\"/>\n",
              "    <path d=\"M18.56 5.44l.94 2.06.94-2.06 2.06-.94-2.06-.94-.94-2.06-.94 2.06-2.06.94zm-11 1L8.5 8.5l.94-2.06 2.06-.94-2.06-.94L8.5 2.5l-.94 2.06-2.06.94zm10 10l.94 2.06.94-2.06 2.06-.94-2.06-.94-.94-2.06-.94 2.06-2.06.94z\"/><path d=\"M17.41 7.96l-1.37-1.37c-.4-.4-.92-.59-1.43-.59-.52 0-1.04.2-1.43.59L10.3 9.45l-7.72 7.72c-.78.78-.78 2.05 0 2.83L4 21.41c.39.39.9.59 1.41.59.51 0 1.02-.2 1.41-.59l7.78-7.78 2.81-2.81c.8-.78.8-2.07 0-2.86zM5.41 20L4 18.59l7.72-7.72 1.47 1.35L5.41 20z\"/>\n",
              "  </svg>\n",
              "      </button>\n",
              "      \n",
              "  <style>\n",
              "    .colab-df-container {\n",
              "      display:flex;\n",
              "      flex-wrap:wrap;\n",
              "      gap: 12px;\n",
              "    }\n",
              "\n",
              "    .colab-df-convert {\n",
              "      background-color: #E8F0FE;\n",
              "      border: none;\n",
              "      border-radius: 50%;\n",
              "      cursor: pointer;\n",
              "      display: none;\n",
              "      fill: #1967D2;\n",
              "      height: 32px;\n",
              "      padding: 0 0 0 0;\n",
              "      width: 32px;\n",
              "    }\n",
              "\n",
              "    .colab-df-convert:hover {\n",
              "      background-color: #E2EBFA;\n",
              "      box-shadow: 0px 1px 2px rgba(60, 64, 67, 0.3), 0px 1px 3px 1px rgba(60, 64, 67, 0.15);\n",
              "      fill: #174EA6;\n",
              "    }\n",
              "\n",
              "    [theme=dark] .colab-df-convert {\n",
              "      background-color: #3B4455;\n",
              "      fill: #D2E3FC;\n",
              "    }\n",
              "\n",
              "    [theme=dark] .colab-df-convert:hover {\n",
              "      background-color: #434B5C;\n",
              "      box-shadow: 0px 1px 3px 1px rgba(0, 0, 0, 0.15);\n",
              "      filter: drop-shadow(0px 1px 2px rgba(0, 0, 0, 0.3));\n",
              "      fill: #FFFFFF;\n",
              "    }\n",
              "  </style>\n",
              "\n",
              "      <script>\n",
              "        const buttonEl =\n",
              "          document.querySelector('#df-bd012353-a504-4701-894a-572d9da9bfbe button.colab-df-convert');\n",
              "        buttonEl.style.display =\n",
              "          google.colab.kernel.accessAllowed ? 'block' : 'none';\n",
              "\n",
              "        async function convertToInteractive(key) {\n",
              "          const element = document.querySelector('#df-bd012353-a504-4701-894a-572d9da9bfbe');\n",
              "          const dataTable =\n",
              "            await google.colab.kernel.invokeFunction('convertToInteractive',\n",
              "                                                     [key], {});\n",
              "          if (!dataTable) return;\n",
              "\n",
              "          const docLinkHtml = 'Like what you see? Visit the ' +\n",
              "            '<a target=\"_blank\" href=https://colab.research.google.com/notebooks/data_table.ipynb>data table notebook</a>'\n",
              "            + ' to learn more about interactive tables.';\n",
              "          element.innerHTML = '';\n",
              "          dataTable['output_type'] = 'display_data';\n",
              "          await google.colab.output.renderOutput(dataTable, element);\n",
              "          const docLink = document.createElement('div');\n",
              "          docLink.innerHTML = docLinkHtml;\n",
              "          element.appendChild(docLink);\n",
              "        }\n",
              "      </script>\n",
              "    </div>\n",
              "  </div>\n",
              "  "
            ]
          },
          "metadata": {},
          "execution_count": 361
        }
      ]
    },
    {
      "cell_type": "markdown",
      "source": [
        "Once obtained the outcome variable (y) and the normalized predictor matrix (X) we can generate our training, validation and test set. \n",
        "\n",
        "The starting dataset is divided in the training, validation and test set according to the following proportions: 60%, 20%, 20%."
      ],
      "metadata": {
        "id": "mTVVh1_zW8Uq"
      }
    },
    {
      "cell_type": "code",
      "source": [
        "X_train, X_rem, y_train, y_rem = train_test_split(X_norm,y, train_size=0.6)\n",
        "\n",
        "\n",
        "test_size = 0.5\n",
        "X_valid, X_test, y_valid, y_test = train_test_split(X_rem,y_rem, test_size=0.5)\n",
        "\n",
        "print(X_train.shape), print(y_train.shape)\n",
        "print(X_valid.shape), print(y_valid.shape)\n",
        "print(X_test.shape), print(y_test.shape)"
      ],
      "metadata": {
        "colab": {
          "base_uri": "https://localhost:8080/"
        },
        "id": "Rk_vHXNEWneA",
        "outputId": "79dad277-6d8a-4f0d-a77a-108a340f62a9"
      },
      "execution_count": 362,
      "outputs": [
        {
          "output_type": "stream",
          "name": "stdout",
          "text": [
            "(353, 12)\n",
            "(353,)\n",
            "(118, 12)\n",
            "(118,)\n",
            "(118, 12)\n",
            "(118,)\n"
          ]
        },
        {
          "output_type": "execute_result",
          "data": {
            "text/plain": [
              "(None, None)"
            ]
          },
          "metadata": {},
          "execution_count": 362
        }
      ]
    },
    {
      "cell_type": "code",
      "source": [
        "#initialization of decision tree classifier\n",
        "dt = DecisionTreeClassifier()"
      ],
      "metadata": {
        "id": "QxTN_jbLCsJl"
      },
      "execution_count": 363,
      "outputs": []
    },
    {
      "cell_type": "code",
      "source": [
        "#train of the decision tree classifier\n",
        "dt.fit(X_train, y_train)"
      ],
      "metadata": {
        "colab": {
          "base_uri": "https://localhost:8080/",
          "height": 75
        },
        "id": "6MD7HCsfCtl6",
        "outputId": "61ad2fba-21b4-4c2c-c554-3fbef76ea6c1"
      },
      "execution_count": 364,
      "outputs": [
        {
          "output_type": "execute_result",
          "data": {
            "text/plain": [
              "DecisionTreeClassifier()"
            ],
            "text/html": [
              "<style>#sk-container-id-30 {color: black;background-color: white;}#sk-container-id-30 pre{padding: 0;}#sk-container-id-30 div.sk-toggleable {background-color: white;}#sk-container-id-30 label.sk-toggleable__label {cursor: pointer;display: block;width: 100%;margin-bottom: 0;padding: 0.3em;box-sizing: border-box;text-align: center;}#sk-container-id-30 label.sk-toggleable__label-arrow:before {content: \"▸\";float: left;margin-right: 0.25em;color: #696969;}#sk-container-id-30 label.sk-toggleable__label-arrow:hover:before {color: black;}#sk-container-id-30 div.sk-estimator:hover label.sk-toggleable__label-arrow:before {color: black;}#sk-container-id-30 div.sk-toggleable__content {max-height: 0;max-width: 0;overflow: hidden;text-align: left;background-color: #f0f8ff;}#sk-container-id-30 div.sk-toggleable__content pre {margin: 0.2em;color: black;border-radius: 0.25em;background-color: #f0f8ff;}#sk-container-id-30 input.sk-toggleable__control:checked~div.sk-toggleable__content {max-height: 200px;max-width: 100%;overflow: auto;}#sk-container-id-30 input.sk-toggleable__control:checked~label.sk-toggleable__label-arrow:before {content: \"▾\";}#sk-container-id-30 div.sk-estimator input.sk-toggleable__control:checked~label.sk-toggleable__label {background-color: #d4ebff;}#sk-container-id-30 div.sk-label input.sk-toggleable__control:checked~label.sk-toggleable__label {background-color: #d4ebff;}#sk-container-id-30 input.sk-hidden--visually {border: 0;clip: rect(1px 1px 1px 1px);clip: rect(1px, 1px, 1px, 1px);height: 1px;margin: -1px;overflow: hidden;padding: 0;position: absolute;width: 1px;}#sk-container-id-30 div.sk-estimator {font-family: monospace;background-color: #f0f8ff;border: 1px dotted black;border-radius: 0.25em;box-sizing: border-box;margin-bottom: 0.5em;}#sk-container-id-30 div.sk-estimator:hover {background-color: #d4ebff;}#sk-container-id-30 div.sk-parallel-item::after {content: \"\";width: 100%;border-bottom: 1px solid gray;flex-grow: 1;}#sk-container-id-30 div.sk-label:hover label.sk-toggleable__label {background-color: #d4ebff;}#sk-container-id-30 div.sk-serial::before {content: \"\";position: absolute;border-left: 1px solid gray;box-sizing: border-box;top: 0;bottom: 0;left: 50%;z-index: 0;}#sk-container-id-30 div.sk-serial {display: flex;flex-direction: column;align-items: center;background-color: white;padding-right: 0.2em;padding-left: 0.2em;position: relative;}#sk-container-id-30 div.sk-item {position: relative;z-index: 1;}#sk-container-id-30 div.sk-parallel {display: flex;align-items: stretch;justify-content: center;background-color: white;position: relative;}#sk-container-id-30 div.sk-item::before, #sk-container-id-30 div.sk-parallel-item::before {content: \"\";position: absolute;border-left: 1px solid gray;box-sizing: border-box;top: 0;bottom: 0;left: 50%;z-index: -1;}#sk-container-id-30 div.sk-parallel-item {display: flex;flex-direction: column;z-index: 1;position: relative;background-color: white;}#sk-container-id-30 div.sk-parallel-item:first-child::after {align-self: flex-end;width: 50%;}#sk-container-id-30 div.sk-parallel-item:last-child::after {align-self: flex-start;width: 50%;}#sk-container-id-30 div.sk-parallel-item:only-child::after {width: 0;}#sk-container-id-30 div.sk-dashed-wrapped {border: 1px dashed gray;margin: 0 0.4em 0.5em 0.4em;box-sizing: border-box;padding-bottom: 0.4em;background-color: white;}#sk-container-id-30 div.sk-label label {font-family: monospace;font-weight: bold;display: inline-block;line-height: 1.2em;}#sk-container-id-30 div.sk-label-container {text-align: center;}#sk-container-id-30 div.sk-container {/* jupyter's `normalize.less` sets `[hidden] { display: none; }` but bootstrap.min.css set `[hidden] { display: none !important; }` so we also need the `!important` here to be able to override the default hidden behavior on the sphinx rendered scikit-learn.org. See: https://github.com/scikit-learn/scikit-learn/issues/21755 */display: inline-block !important;position: relative;}#sk-container-id-30 div.sk-text-repr-fallback {display: none;}</style><div id=\"sk-container-id-30\" class=\"sk-top-container\"><div class=\"sk-text-repr-fallback\"><pre>DecisionTreeClassifier()</pre><b>In a Jupyter environment, please rerun this cell to show the HTML representation or trust the notebook. <br />On GitHub, the HTML representation is unable to render, please try loading this page with nbviewer.org.</b></div><div class=\"sk-container\" hidden><div class=\"sk-item\"><div class=\"sk-estimator sk-toggleable\"><input class=\"sk-toggleable__control sk-hidden--visually\" id=\"sk-estimator-id-48\" type=\"checkbox\" checked><label for=\"sk-estimator-id-48\" class=\"sk-toggleable__label sk-toggleable__label-arrow\">DecisionTreeClassifier</label><div class=\"sk-toggleable__content\"><pre>DecisionTreeClassifier()</pre></div></div></div></div></div>"
            ]
          },
          "metadata": {},
          "execution_count": 364
        }
      ]
    },
    {
      "cell_type": "code",
      "source": [
        "#\n",
        "y_test_pred=dt.predict(X_test)"
      ],
      "metadata": {
        "id": "piofCyIECzRz"
      },
      "execution_count": 365,
      "outputs": []
    },
    {
      "cell_type": "code",
      "source": [
        "train_score = dt.score(X_train, y_train)\n",
        "valid_score = dt.score(X_valid, y_valid)"
      ],
      "metadata": {
        "id": "zQ2HrgXqFd94"
      },
      "execution_count": 366,
      "outputs": []
    },
    {
      "cell_type": "code",
      "source": [
        "print('Decision tree train/valid accuracies:', train_score, valid_score)"
      ],
      "metadata": {
        "colab": {
          "base_uri": "https://localhost:8080/"
        },
        "id": "5vcaWyVjFggR",
        "outputId": "548863b0-9b40-4c90-bf9f-d2b82e0aa6a0"
      },
      "execution_count": 367,
      "outputs": [
        {
          "output_type": "stream",
          "name": "stdout",
          "text": [
            "Decision tree train/valid accuracies: 1.0 0.9067796610169492\n"
          ]
        }
      ]
    },
    {
      "cell_type": "code",
      "source": [
        "#let's now check the overal score on the test set: \n",
        "\n",
        "test_score = dt.score(X_test, y_test)\n",
        "print('Decision tree test accuracy:', test_score)"
      ],
      "metadata": {
        "colab": {
          "base_uri": "https://localhost:8080/"
        },
        "id": "FhYHbtZqY9LQ",
        "outputId": "74cedda0-0122-4b20-f47d-1bec95d59c9a"
      },
      "execution_count": 368,
      "outputs": [
        {
          "output_type": "stream",
          "name": "stdout",
          "text": [
            "Decision tree test accuracy: 0.9152542372881356\n"
          ]
        }
      ]
    },
    {
      "cell_type": "markdown",
      "source": [
        "Let's now repeat the same analysis after performing hyperparameter tuning. \n",
        "\n",
        "The hyperparameters involved in this case concerns: \n",
        "\n",
        "- tree depth (max_depth),\n",
        "- the number of features to consider when looking for the best split (max_features),\n",
        "- The minimum number of samples required to be at a leaf node (min_sample_leaf)\n",
        "- The minimum number of samples required to split an internal node (min_sample_split). \n",
        "\n",
        "Hyperparameter optimization was carried out by traditional grid search methods analysing the whole possible combinations of hyperparameters. "
      ],
      "metadata": {
        "id": "gP-KnnYihWx9"
      }
    },
    {
      "cell_type": "code",
      "source": [
        "#Hyperparameter tuning with grid search"
      ],
      "metadata": {
        "id": "F1KiN2IhGKr9"
      },
      "execution_count": 369,
      "outputs": []
    },
    {
      "cell_type": "code",
      "source": [
        "dt = DecisionTreeClassifier()"
      ],
      "metadata": {
        "id": "I9G6DNzwGS1C"
      },
      "execution_count": 370,
      "outputs": []
    },
    {
      "cell_type": "code",
      "source": [
        "#let's introduce the hyperparametera for optimization and their possible values\n",
        "\n",
        "parameters = {\"max_depth\":[1, 2, 3, 4, 5, 7, 10],  \n",
        "              \"min_samples_leaf\": [1, 3, 6, 10, 20], \n",
        "              \"min_samples_split\": [1,3,5,7,9,11],\n",
        "              \"max_features\":['auto', 'sqrt', 'log2']}"
      ],
      "metadata": {
        "id": "Y489nwKvGVYI"
      },
      "execution_count": 371,
      "outputs": []
    },
    {
      "cell_type": "code",
      "source": [
        "clf = GridSearchCV(dt, parameters, n_jobs= 1)"
      ],
      "metadata": {
        "id": "t6k8I5g1GZeI"
      },
      "execution_count": 372,
      "outputs": []
    },
    {
      "cell_type": "code",
      "source": [
        "clf.fit(X_train, y_train)"
      ],
      "metadata": {
        "id": "qakTSnmjGdkM"
      },
      "execution_count": null,
      "outputs": []
    },
    {
      "cell_type": "code",
      "source": [
        "#identification of the best hyperparameter combination\n",
        "\n",
        "print(clf.best_params_)"
      ],
      "metadata": {
        "colab": {
          "base_uri": "https://localhost:8080/"
        },
        "id": "TWz7u5ueTcA1",
        "outputId": "e68fbe2d-22b3-4a0f-c286-7fb30cd033f6"
      },
      "execution_count": 374,
      "outputs": [
        {
          "output_type": "stream",
          "name": "stdout",
          "text": [
            "{'max_depth': 7, 'max_features': 'auto', 'min_samples_leaf': 1, 'min_samples_split': 9}\n"
          ]
        }
      ]
    },
    {
      "cell_type": "code",
      "source": [
        "depth = clf.best_params_['max_depth']\n",
        "features = clf.best_params_['max_features']\n",
        "sample_leaf = clf.best_params_['min_samples_leaf']\n",
        "sample_split = clf.best_params_['min_samples_split']\n",
        "print('The optimized hyperparameters are: \\nmax_depth:',depth, '\\nmax_features:', features, '\\nmin_samples_leaf:', sample_leaf, '\\nmin_samples_split:', sample_split )"
      ],
      "metadata": {
        "colab": {
          "base_uri": "https://localhost:8080/"
        },
        "id": "jVOea5oFZ9QH",
        "outputId": "0e4e2683-22a1-4b52-e6f7-ac7a8f690d46"
      },
      "execution_count": 375,
      "outputs": [
        {
          "output_type": "stream",
          "name": "stdout",
          "text": [
            "The optimized hyperparameters are: \n",
            "max_depth: 7 \n",
            "max_features: auto \n",
            "min_samples_leaf: 1 \n",
            "min_samples_split: 9\n"
          ]
        }
      ]
    },
    {
      "cell_type": "code",
      "source": [
        "#let's now train the new decision tree based on optimizes hyperparameters"
      ],
      "metadata": {
        "id": "UIF1D1v6TjhX"
      },
      "execution_count": 376,
      "outputs": []
    },
    {
      "cell_type": "code",
      "source": [
        "dt = DecisionTreeClassifier(max_depth = depth, max_features= features, min_samples_leaf= sample_leaf, min_samples_split=sample_split)\n",
        "dt.fit(X_train, y_train)"
      ],
      "metadata": {
        "colab": {
          "base_uri": "https://localhost:8080/",
          "height": 129
        },
        "id": "eZoV6tj8TrzU",
        "outputId": "5d2cc0ad-f756-4bb9-986f-695f25514b10"
      },
      "execution_count": 377,
      "outputs": [
        {
          "output_type": "stream",
          "name": "stderr",
          "text": [
            "/usr/local/lib/python3.10/dist-packages/sklearn/tree/_classes.py:269: FutureWarning: `max_features='auto'` has been deprecated in 1.1 and will be removed in 1.3. To keep the past behaviour, explicitly set `max_features='sqrt'`.\n",
            "  warnings.warn(\n"
          ]
        },
        {
          "output_type": "execute_result",
          "data": {
            "text/plain": [
              "DecisionTreeClassifier(max_depth=7, max_features='auto', min_samples_split=9)"
            ],
            "text/html": [
              "<style>#sk-container-id-32 {color: black;background-color: white;}#sk-container-id-32 pre{padding: 0;}#sk-container-id-32 div.sk-toggleable {background-color: white;}#sk-container-id-32 label.sk-toggleable__label {cursor: pointer;display: block;width: 100%;margin-bottom: 0;padding: 0.3em;box-sizing: border-box;text-align: center;}#sk-container-id-32 label.sk-toggleable__label-arrow:before {content: \"▸\";float: left;margin-right: 0.25em;color: #696969;}#sk-container-id-32 label.sk-toggleable__label-arrow:hover:before {color: black;}#sk-container-id-32 div.sk-estimator:hover label.sk-toggleable__label-arrow:before {color: black;}#sk-container-id-32 div.sk-toggleable__content {max-height: 0;max-width: 0;overflow: hidden;text-align: left;background-color: #f0f8ff;}#sk-container-id-32 div.sk-toggleable__content pre {margin: 0.2em;color: black;border-radius: 0.25em;background-color: #f0f8ff;}#sk-container-id-32 input.sk-toggleable__control:checked~div.sk-toggleable__content {max-height: 200px;max-width: 100%;overflow: auto;}#sk-container-id-32 input.sk-toggleable__control:checked~label.sk-toggleable__label-arrow:before {content: \"▾\";}#sk-container-id-32 div.sk-estimator input.sk-toggleable__control:checked~label.sk-toggleable__label {background-color: #d4ebff;}#sk-container-id-32 div.sk-label input.sk-toggleable__control:checked~label.sk-toggleable__label {background-color: #d4ebff;}#sk-container-id-32 input.sk-hidden--visually {border: 0;clip: rect(1px 1px 1px 1px);clip: rect(1px, 1px, 1px, 1px);height: 1px;margin: -1px;overflow: hidden;padding: 0;position: absolute;width: 1px;}#sk-container-id-32 div.sk-estimator {font-family: monospace;background-color: #f0f8ff;border: 1px dotted black;border-radius: 0.25em;box-sizing: border-box;margin-bottom: 0.5em;}#sk-container-id-32 div.sk-estimator:hover {background-color: #d4ebff;}#sk-container-id-32 div.sk-parallel-item::after {content: \"\";width: 100%;border-bottom: 1px solid gray;flex-grow: 1;}#sk-container-id-32 div.sk-label:hover label.sk-toggleable__label {background-color: #d4ebff;}#sk-container-id-32 div.sk-serial::before {content: \"\";position: absolute;border-left: 1px solid gray;box-sizing: border-box;top: 0;bottom: 0;left: 50%;z-index: 0;}#sk-container-id-32 div.sk-serial {display: flex;flex-direction: column;align-items: center;background-color: white;padding-right: 0.2em;padding-left: 0.2em;position: relative;}#sk-container-id-32 div.sk-item {position: relative;z-index: 1;}#sk-container-id-32 div.sk-parallel {display: flex;align-items: stretch;justify-content: center;background-color: white;position: relative;}#sk-container-id-32 div.sk-item::before, #sk-container-id-32 div.sk-parallel-item::before {content: \"\";position: absolute;border-left: 1px solid gray;box-sizing: border-box;top: 0;bottom: 0;left: 50%;z-index: -1;}#sk-container-id-32 div.sk-parallel-item {display: flex;flex-direction: column;z-index: 1;position: relative;background-color: white;}#sk-container-id-32 div.sk-parallel-item:first-child::after {align-self: flex-end;width: 50%;}#sk-container-id-32 div.sk-parallel-item:last-child::after {align-self: flex-start;width: 50%;}#sk-container-id-32 div.sk-parallel-item:only-child::after {width: 0;}#sk-container-id-32 div.sk-dashed-wrapped {border: 1px dashed gray;margin: 0 0.4em 0.5em 0.4em;box-sizing: border-box;padding-bottom: 0.4em;background-color: white;}#sk-container-id-32 div.sk-label label {font-family: monospace;font-weight: bold;display: inline-block;line-height: 1.2em;}#sk-container-id-32 div.sk-label-container {text-align: center;}#sk-container-id-32 div.sk-container {/* jupyter's `normalize.less` sets `[hidden] { display: none; }` but bootstrap.min.css set `[hidden] { display: none !important; }` so we also need the `!important` here to be able to override the default hidden behavior on the sphinx rendered scikit-learn.org. See: https://github.com/scikit-learn/scikit-learn/issues/21755 */display: inline-block !important;position: relative;}#sk-container-id-32 div.sk-text-repr-fallback {display: none;}</style><div id=\"sk-container-id-32\" class=\"sk-top-container\"><div class=\"sk-text-repr-fallback\"><pre>DecisionTreeClassifier(max_depth=7, max_features=&#x27;auto&#x27;, min_samples_split=9)</pre><b>In a Jupyter environment, please rerun this cell to show the HTML representation or trust the notebook. <br />On GitHub, the HTML representation is unable to render, please try loading this page with nbviewer.org.</b></div><div class=\"sk-container\" hidden><div class=\"sk-item\"><div class=\"sk-estimator sk-toggleable\"><input class=\"sk-toggleable__control sk-hidden--visually\" id=\"sk-estimator-id-52\" type=\"checkbox\" checked><label for=\"sk-estimator-id-52\" class=\"sk-toggleable__label sk-toggleable__label-arrow\">DecisionTreeClassifier</label><div class=\"sk-toggleable__content\"><pre>DecisionTreeClassifier(max_depth=7, max_features=&#x27;auto&#x27;, min_samples_split=9)</pre></div></div></div></div></div>"
            ]
          },
          "metadata": {},
          "execution_count": 377
        }
      ]
    },
    {
      "cell_type": "code",
      "source": [
        "#y_train_pred=dt.predict(X_train)\n",
        "#y_test_pred=dt.predict(X_test)\n",
        "tree_train = dt.score(X_train, y_train)\n",
        "valid_test = dt.score(X_valid, y_valid)\n",
        "print('Decision tree train/valid accuracies:', tree_train, valid_test)"
      ],
      "metadata": {
        "colab": {
          "base_uri": "https://localhost:8080/"
        },
        "id": "J2Ym0MNNT9uF",
        "outputId": "e78a0e6b-8096-4347-992c-863fbc202a3e"
      },
      "execution_count": 378,
      "outputs": [
        {
          "output_type": "stream",
          "name": "stdout",
          "text": [
            "Decision tree train/valid accuracies: 0.9716713881019831 0.8983050847457628\n"
          ]
        }
      ]
    },
    {
      "cell_type": "markdown",
      "source": [
        "Let's now check its overall accuracy on the test set."
      ],
      "metadata": {
        "id": "W0lIHh8nYhPV"
      }
    },
    {
      "cell_type": "code",
      "source": [
        "#dt.fit(X_train, y_train)"
      ],
      "metadata": {
        "id": "j4euXfijYmT2"
      },
      "execution_count": 379,
      "outputs": []
    },
    {
      "cell_type": "code",
      "source": [
        "test_score = dt.score(X_test,y_test)\n",
        "print('Score on the test set equal to:', test_score)"
      ],
      "metadata": {
        "colab": {
          "base_uri": "https://localhost:8080/"
        },
        "id": "zORW-F-PYrfC",
        "outputId": "983a7d9b-6d90-4db7-8656-e5b2eb21cc3f"
      },
      "execution_count": 380,
      "outputs": [
        {
          "output_type": "stream",
          "name": "stdout",
          "text": [
            "Score on the test set equal to: 0.9576271186440678\n"
          ]
        }
      ]
    },
    {
      "cell_type": "markdown",
      "source": [
        "In conclusion: \n",
        "-  Thanks to hyperparameter optimization, the overall decision tree structure reported a higher classification accuracy on the test set, compared to the absence of hyperparameter optimization\n",
        "\n",
        "- Hyperparameter optimization was performed by grid search, which evaluated all the possible combinations of hyperparameter values and selected the best for the purpose of the optimization. Grid search optimization turned out to be an efficient and time efficient process given the relative low number of concerned hyperparameters. The choice of hyperparameter optimization strategy would need to be tuned according to the specific model to be used. More complex strategies may be adopted whenever dealing with more complex models, where hyperparameter may be of different types and may show intercorrelations"
      ],
      "metadata": {
        "id": "HrnirJ1PbBM3"
      }
    },
    {
      "cell_type": "markdown",
      "source": [
        "# Extra \n",
        "\n",
        "Some classes appear less densely represented in the dataset compared to other classes. For example, \"Blood donor\" appears more often compared to \"Hepatitis\", \"fibrosis\", and  \"cirrhosis\".\n",
        "In case we would be interested in these last classes of hepatic disease, we may want to implement an oversampling strategy. For example let's consider the scenario where we may want to correctly classify patients with fibrosis. In this case, the overal classification would resume to a binary classification represented by \"fibrosis vs all\", where \"all\" includes \"Blood donor\", \"suspect blood donor\", \"hepatitis\" and \"cirrhosis\". \n",
        "Oversampling strategy may be applied through the stratified sampling algorithm shown below.  "
      ],
      "metadata": {
        "id": "5fAnNmegzemA"
      }
    },
    {
      "cell_type": "markdown",
      "metadata": {
        "id": "68626adc"
      },
      "source": [
        "## Stratified sampling algorithm\n",
        "\n",
        "Category of interest:\"fibrosis\"\n",
        "\n",
        "### TO DO:\n",
        "1. Divide the available data into two sets (strata):\n",
        "    - all samples of the class of interest (set A).\n",
        "    - all other samples (set B)\n",
        "2. Construct the training set:\n",
        "    - randomly select 50 per cent of the samples in set A.\n",
        "    - add equally many samples from set B.\n",
        "3. Construct the validation set:\n",
        "    - select the remaining 50 per cent of samples from set A.\n",
        "    - add enough samples from set B so as to restore the original ratio from the overall data set.\n",
        "    "
      ]
    },
    {
      "cell_type": "markdown",
      "source": [
        "Let's first analyse the case when no oversampling technique is applied"
      ],
      "metadata": {
        "id": "qqBjDnsTDHhT"
      }
    },
    {
      "cell_type": "code",
      "source": [
        "data = np.concatenate([X_norm, np.expand_dims(y, axis=1)], axis=1)\n",
        "train, validation = sklearn.model_selection.train_test_split(data, test_size= 0.5, shuffle=True, random_state=1)\n",
        "y_train = train[:,-1]\n",
        "y_valid = validation[:,-1]\n",
        "X_train = train[:,0:-1]\n",
        "X_valid = validation[:,0:-1]\n",
        "\n",
        "predictions = dt.predict(X_valid)\n",
        "validation_ys = y_valid\n",
        "print('% correct predictions:', (validation_ys == predictions).sum()/len(validation_ys))\n",
        "print('% incorrect predictions:', (validation_ys != predictions).sum()/len(validation_ys))\n",
        "\n",
        "indices = np.where(validation_ys == 3)\n",
        "print('% correct predictions on class of interest:', (validation_ys[np.where(validation_ys == 3)] == \n",
        "                                                      predictions[np.where(validation_ys == 3)]).sum()\n",
        "      /len(validation_ys[np.where(validation_ys == 3)]))"
      ],
      "metadata": {
        "colab": {
          "base_uri": "https://localhost:8080/"
        },
        "id": "ZHUr_3Lj3A4B",
        "outputId": "b94e61b0-d2fa-42fb-c402-a8350137287a"
      },
      "execution_count": 381,
      "outputs": [
        {
          "output_type": "stream",
          "name": "stdout",
          "text": [
            "% correct predictions: 0.9423728813559322\n",
            "% incorrect predictions: 0.0576271186440678\n",
            "% correct predictions on class of interest: 0.7142857142857143\n"
          ]
        }
      ]
    },
    {
      "cell_type": "markdown",
      "source": [
        "Let's now see how the accuracy on the class of intereset may change when applying oversampling"
      ],
      "metadata": {
        "id": "N_0k_7zqDPcn"
      }
    },
    {
      "cell_type": "code",
      "source": [
        "#the fibrosis group is evidenced by the outcome variable y=3\n",
        "\n",
        "setA = np.concatenate([X_norm, np.expand_dims(y, axis=1)], axis=1)[np.where(y==3)] #fibrosis instances will be put in set A \n",
        "setB = np.concatenate([X_norm, np.expand_dims(y, axis=1)], axis=1)[np.where(y!=3)] #all other instances will be put in set B\n",
        "\n",
        "# randomly select 50% of training samples in set A\n",
        "\n",
        "setA_train, setA_validation = sklearn.model_selection.train_test_split(setA, \n",
        "                                                                       test_size=0.5, shuffle=True, random_state=1)\n",
        "setB_train, setB_validation = sklearn.model_selection.train_test_split(setB, \n",
        "                                                                       test_size= 1-len(setA_train)/len(setB), shuffle=True, random_state=1)\n",
        "train = np.concatenate([setA_train, setB_train])\n",
        "validation = np.concatenate([setA_validation, setB_validation[:int((len(setA_validation)* len(setB))/len(setA)), :]])"
      ],
      "metadata": {
        "id": "rpxIMXzm1Dz7"
      },
      "execution_count": 382,
      "outputs": []
    },
    {
      "cell_type": "code",
      "source": [
        "y_train = train[:,-1]\n",
        "y_valid = validation[:,-1]\n",
        "X_train = train[:,0:-1]\n",
        "X_valid = validation[:,0:-1]"
      ],
      "metadata": {
        "id": "FbqTnMpR35RM"
      },
      "execution_count": 383,
      "outputs": []
    },
    {
      "cell_type": "code",
      "source": [
        "dt.fit(X_train, y_train)\n",
        "predictions = dt.predict(X_valid)\n",
        "validation_ys = y_valid\n",
        "#validation_ys = validation[:, 2]\n",
        "print('% correct predictions:', (validation_ys == predictions).sum()/len(validation_ys))\n",
        "print('% incorrect predictions:', (validation_ys != predictions).sum()/len(validation_ys))\n",
        "\n",
        "indices = np.where(validation_ys == 3)\n",
        "print('% correct predictions on class of interest:', (validation_ys[np.where(validation_ys == 3)] == \n",
        "                                                      predictions[np.where(validation_ys == 3)]).sum()\n",
        "      /len(validation_ys[np.where(validation_ys == 3)]))"
      ],
      "metadata": {
        "colab": {
          "base_uri": "https://localhost:8080/"
        },
        "id": "O88zCN3t2ZX6",
        "outputId": "ddbe5e75-5d7b-445a-b6b9-78e372fcd2e5"
      },
      "execution_count": 384,
      "outputs": [
        {
          "output_type": "stream",
          "name": "stdout",
          "text": [
            "% correct predictions: 0.7993197278911565\n",
            "% incorrect predictions: 0.20068027210884354\n",
            "% correct predictions on class of interest: 0.8333333333333334\n"
          ]
        },
        {
          "output_type": "stream",
          "name": "stderr",
          "text": [
            "/usr/local/lib/python3.10/dist-packages/sklearn/tree/_classes.py:269: FutureWarning: `max_features='auto'` has been deprecated in 1.1 and will be removed in 1.3. To keep the past behaviour, explicitly set `max_features='sqrt'`.\n",
            "  warnings.warn(\n"
          ]
        }
      ]
    },
    {
      "cell_type": "markdown",
      "source": [
        "By implementing oversampling technique, we have achieved a higher accuracy on the target category (fibrosis, y=3), that was represented with fewer data instances compared to others in the dataset. "
      ],
      "metadata": {
        "id": "PcVVlQiU5_hK"
      }
    }
  ]
}